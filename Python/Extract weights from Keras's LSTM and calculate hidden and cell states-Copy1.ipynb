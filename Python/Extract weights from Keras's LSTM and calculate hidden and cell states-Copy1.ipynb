{
 "cells": [
  {
   "cell_type": "markdown",
   "metadata": {},
   "source": [
    "## Initialisation time series"
   ]
  },
  {
   "cell_type": "code",
   "execution_count": 1,
   "metadata": {},
   "outputs": [
    {
     "name": "stdout",
     "output_type": "stream",
     "text": [
      "INFO:tensorflow:Using local port 23439\n",
      "INFO:tensorflow:Using local port 16140\n",
      "INFO:tensorflow:Using local port 17218\n",
      "INFO:tensorflow:Using local port 20095\n",
      "INFO:tensorflow:Using local port 20269\n",
      "INFO:tensorflow:Using local port 20717\n",
      "INFO:tensorflow:Using local port 18312\n",
      "INFO:tensorflow:Using local port 15069\n",
      "INFO:tensorflow:Using local port 15173\n",
      "INFO:tensorflow:Using local port 15309\n",
      "python 3.7.3 (default, Jul 25 2020, 13:03:44) \n",
      "[GCC 8.3.0]\n",
      "keras version 2.4.3\n",
      "tensorflow version 2.4.0-dev20201012\n"
     ]
    },
    {
     "name": "stderr",
     "output_type": "stream",
     "text": [
      "/usr/local/lib/python3.7/dist-packages/ipykernel_launcher.py:16: FutureWarning: The pandas.datetime class is deprecated and will be removed from pandas in a future version. Import from datetime module instead.\n",
      "  app.launch_new_instance()\n"
     ]
    }
   ],
   "source": [
    "import matplotlib.pyplot as plt\n",
    "import tensorflow as tf\n",
    "#from keras.backend.tensorflow_backend import set_session\n",
    "import keras\n",
    "import seaborn as sns\n",
    "import pandas as pd\n",
    "import sys, time\n",
    "import numpy as np\n",
    "import warnings\n",
    "\n",
    "\n",
    "from pandas import DataFrame\n",
    "from pandas import Series\n",
    "from pandas import concat\n",
    "from pandas import read_csv\n",
    "from pandas import datetime\n",
    "\n",
    "from sklearn.metrics import mean_squared_error\n",
    "from sklearn.preprocessing import MinMaxScaler\n",
    "\n",
    "\n",
    "#from keras.models import Sequential\n",
    "#from keras.layers import Dense\n",
    "#from keras.layers import LSTM\n",
    "#from math import sqrt\n",
    "\n",
    "\n",
    "warnings.filterwarnings(\"ignore\")\n",
    "print(\"python {}\".format(sys.version))\n",
    "print(\"keras version {}\".format(keras.__version__))\n",
    "print(\"tensorflow version {}\".format(tf.__version__))"
   ]
  },
  {
   "cell_type": "code",
   "execution_count": 2,
   "metadata": {},
   "outputs": [],
   "source": [
    "# date-time parsing function for loading the dataset\n",
    "def parser(x):\n",
    "\treturn datetime.strptime('190'+x, '%Y-%m')\n",
    " \n",
    "# frame a sequence as a supervised learning problem\n",
    "def timeseries_to_supervised(data, lag=1):\n",
    "\tdf = DataFrame(data)\n",
    "\tcolumns = [df.shift(i) for i in range(1, lag+1)]\n",
    "\tcolumns.append(df)\n",
    "\tdf = concat(columns, axis=1)\n",
    "\tdf.fillna(0, inplace=True)\n",
    "\treturn df\n",
    " \n",
    "# create a differenced series\n",
    "def difference(dataset, interval=1):\n",
    "\tdiff = list()\n",
    "\tfor i in range(interval, len(dataset)):\n",
    "\t\tvalue = dataset[i] - dataset[i - interval]\n",
    "\t\tdiff.append(value)\n",
    "\treturn Series(diff)\n",
    " \n",
    "# invert differenced value\n",
    "def inverse_difference(history, yhat, interval=1):\n",
    "\treturn yhat + history[-interval]\n",
    " \n",
    "# scale train and test data to [0, 1]\n",
    "def scale(train, test):\n",
    "\t# fit scaler\n",
    "\tscaler = MinMaxScaler(feature_range=(0, 0.9))\n",
    "\tscaler = scaler.fit(train)\n",
    "\tprint(scaler.data_min_)\n",
    "\tprint(scaler.data_max_)\n",
    "\t# transform train\n",
    "\ttrain = train.reshape(train.shape[0], train.shape[1])\n",
    "\ttrain_scaled = scaler.transform(train)\n",
    "\t# transform test\n",
    "\ttest = test.reshape(test.shape[0], test.shape[1])\n",
    "\ttest_scaled = scaler.transform(test)\n",
    "\treturn scaler, train_scaled, test_scaled\n",
    " \n",
    "# inverse scaling for a forecasted value\n",
    "def invert_scale(scaler, X, value):\n",
    "\tnew_row = [x for x in X] + [value]\n",
    "\tarray = np.array(new_row)\n",
    "\tarray = array.reshape(1, len(array))\n",
    "\tinverted = scaler.inverse_transform(array)\n",
    "\treturn inverted[0, -1]\n",
    " \n",
    "# fit an LSTM network to training data\n",
    "def fit_lstm(train, batch_size, nb_epoch, neurons):\n",
    "\tX, y = train[:, 0:-1], train[:, -1]\n",
    "\tX = X.reshape(X.shape[0], 1, X.shape[1])\n",
    "\tprint(X.shape)\n",
    "\tmodel = tf.keras.models.Sequential([\n",
    "\t\t#tf.keras.layers.Input(shape=(1,1), name='input'),\n",
    "\t\ttf.keras.layers.LSTM(neurons, batch_input_shape=(batch_size, X.shape[1], X.shape[2]), stateful=False),\n",
    "\t\t#tf.keras.layers.Flatten(),\n",
    "\t\ttf.keras.layers.Dense(1,name='output')\n",
    "\t])\n",
    "\tmodel.compile(loss='mean_squared_error', optimizer='adam')\n",
    "#\tmodel.compile(optimizer='adam',\n",
    "#                  loss='sparse_categorical_crossentropy',\n",
    "#                  metrics=['accuracy'])\n",
    "\tmodel.summary()\n",
    "\t#for i in range(nb_epoch):\n",
    "\t#\tmodel.fit(X, y, epochs=1, batch_size=batch_size, verbose=0, shuffle=False)\n",
    "\t#\tmodel.reset_states()\n",
    "\tmodel.fit(X, y, epochs=nb_epoch, batch_size=batch_size, verbose=0, shuffle=False)\n",
    "\treturn model\n",
    " \n",
    "# make a one-step forecast\n",
    "def forecast_lstm(model, batch_size, X):\n",
    "\tX = X.reshape(1, 1, len(X))\n",
    "\tyhat = model.predict(X, batch_size=batch_size)\n",
    "\treturn yhat[0,0]\n"
   ]
  },
  {
   "cell_type": "markdown",
   "metadata": {},
   "source": [
    "## Evaluation\n",
    "\n",
    "Fonction de détermination de l'erreur absolue en pourcentage\n",
    "\n",
    "Combien de \\% d'écart en moyenne entre la donnée prédite et la donnée mesurée"
   ]
  },
  {
   "cell_type": "code",
   "execution_count": 3,
   "metadata": {},
   "outputs": [],
   "source": [
    "def mean_absolute_percentage_error(y_true, y_pred): \n",
    "     return ((np.fabs(y_true - y_pred)/y_true).mean())"
   ]
  },
  {
   "cell_type": "markdown",
   "metadata": {},
   "source": [
    "## Importation des données\n",
    "\n",
    "Colonnes importées : 2e, 3e et 8e colonnes\n",
    "\n",
    "2e colonne : Temps\n",
    "3e colonne : identifiant Antenne\n",
    "7e colonne : Quantité de données"
   ]
  },
  {
   "cell_type": "code",
   "execution_count": 4,
   "metadata": {},
   "outputs": [],
   "source": [
    "dataframe = read_csv('Z1_RYG_20190423_cost.csv', usecols=[0,4], engine='python')"
   ]
  },
  {
   "cell_type": "code",
   "execution_count": 5,
   "metadata": {},
   "outputs": [],
   "source": [
    "dataset = dataframe.values"
   ]
  },
  {
   "cell_type": "code",
   "execution_count": null,
   "metadata": {},
   "outputs": [],
   "source": []
  },
  {
   "cell_type": "markdown",
   "metadata": {},
   "source": [
    "## Sélection des données\n",
    "\n",
    "Isolation d'une antenne (ID : 39)\n",
    "\n",
    "Convertion du temps en heures"
   ]
  },
  {
   "cell_type": "code",
   "execution_count": 6,
   "metadata": {},
   "outputs": [],
   "source": [
    "newdataset1 = []\n",
    "newdataset2 = []\n",
    "for i in range(len(dataset)):\n",
    "    a = i\n",
    "    b = dataset[i, 1]\n",
    "    newdataset1.append(a)\n",
    "    newdataset2.append(b)"
   ]
  },
  {
   "cell_type": "code",
   "execution_count": 7,
   "metadata": {},
   "outputs": [
    {
     "data": {
      "image/png": "[encoded data removed]",
      "text/plain": [
       "<Figure size 432x288 with 1 Axes>"
      ]
     },
     "metadata": {
      "needs_background": "light"
     },
     "output_type": "display_data"
    },
    {
     "data": {
      "image/png": "[encoded data removed]",
      "text/plain": [
       "<Figure size 432x288 with 1 Axes>"
      ]
     },
     "metadata": {
      "needs_background": "light"
     },
     "output_type": "display_data"
    },
    {
     "data": {
      "image/png": "[encoded data removed]",
      "text/plain": [
       "<Figure size 432x288 with 1 Axes>"
      ]
     },
     "metadata": {
      "needs_background": "light"
     },
     "output_type": "display_data"
    }
   ],
   "source": [
    "raw_values = np.asarray(newdataset2)\n",
    "l=len(raw_values)\n",
    "plt.plot(raw_values[:int(l/3)])\n",
    "plt.show()\n",
    "plt.plot(raw_values[int(l/3):-int(l/3)])\n",
    "plt.show()\n",
    "plt.plot(raw_values[-int(l/3):])\n",
    "plt.show()"
   ]
  },
  {
   "cell_type": "markdown",
   "metadata": {},
   "source": [
    "## Découpage du jeu de données\n",
    "\n",
    "Définition d'un jeu d'entrainement et d'un jeu de test\n",
    "\n",
    "Mise à l'échelle des données sur l'intervalle \\[0,1\\]"
   ]
  },
  {
   "cell_type": "code",
   "execution_count": 8,
   "metadata": {},
   "outputs": [
    {
     "name": "stdout",
     "output_type": "stream",
     "text": [
      "[-11.3272 -11.3272]\n",
      "[11.03015 11.03015]\n"
     ]
    },
    {
     "data": {
      "image/png": "[encoded data removed]",
      "text/plain": [
       "<Figure size 432x288 with 1 Axes>"
      ]
     },
     "metadata": {
      "needs_background": "light"
     },
     "output_type": "display_data"
    },
    {
     "data": {
      "image/png": "[encoded data removed]",
      "text/plain": [
       "<Figure size 432x288 with 1 Axes>"
      ]
     },
     "metadata": {
      "needs_background": "light"
     },
     "output_type": "display_data"
    }
   ],
   "source": [
    "diff_values = difference(raw_values, 1)\n",
    " \n",
    "# transform data to be supervised learning\n",
    "supervised = timeseries_to_supervised(diff_values, 1)\n",
    "supervised_values = supervised.values\n",
    " \n",
    "# split data into train and test-sets\n",
    "train, test = supervised_values[0:-int(l/3)], supervised_values[-int(l/3):]\n",
    " \n",
    "# transform the scale of the data\n",
    "scaler, train_scaled, test_scaled = scale(train, test)\n",
    "\n",
    "plt.plot(train_scaled[:int(l/3)])\n",
    "plt.show()\n",
    "plt.plot(test_scaled[:int(l/3)])\n",
    "plt.show()"
   ]
  },
  {
   "cell_type": "markdown",
   "metadata": {},
   "source": [
    "## Entrainement"
   ]
  },
  {
   "cell_type": "code",
   "execution_count": null,
   "metadata": {},
   "outputs": [
    {
     "name": "stdout",
     "output_type": "stream",
     "text": [
      "(337959, 1, 1)\n",
      "Model: \"sequential\"\n",
      "_________________________________________________________________\n",
      "Layer (type)                 Output Shape              Param #   \n",
      "=================================================================\n",
      "lstm (LSTM)                  (1, 1)                    12        \n",
      "_________________________________________________________________\n",
      "output (Dense)               (1, 1)                    2         \n",
      "=================================================================\n",
      "Total params: 14\n",
      "Trainable params: 14\n",
      "Non-trainable params: 0\n",
      "_________________________________________________________________\n"
     ]
    }
   ],
   "source": [
    "lstm_model = fit_lstm(train_scaled, 1, 1, 1)\n",
    "# forecast the entire training dataset to build up state for forecasting\n",
    "train_reshaped = train_scaled[:, 0].reshape(len(train_scaled), 1, 1)\n",
    "lstm_model.predict(train_reshaped, batch_size=1)"
   ]
  },
  {
   "cell_type": "markdown",
   "metadata": {},
   "source": [
    "## Prédiction\n",
    "\n",
    "Prédiction de la donnée et établissement d'un jeu de données prédite."
   ]
  },
  {
   "cell_type": "code",
   "execution_count": null,
   "metadata": {},
   "outputs": [],
   "source": [
    "# walk-forward validation on the test data\n",
    "predictions = list()\n",
    "for i in range(len(test_scaled)):\n",
    "\t# make one-step forecast\n",
    "\tX, y = test_scaled[i, 0:-1], test_scaled[i, -1]\n",
    "\tyhat = forecast_lstm(lstm_model, 1, X)\n",
    "\t# invert scaling\n",
    "\tyhat = invert_scale(scaler, X, yhat)\n",
    "\t# invert differencing\n",
    "\tyhat = inverse_difference(raw_values, yhat, len(test_scaled)+1-i)\n",
    "\t# store forecast\n",
    "\texpected = raw_values[len(train) + i + 1]\n",
    "\n",
    "\tpredictions.append(yhat)\n",
    "\n",
    "for i in range(len(test_scaled)):\n",
    "\tprint('hour=%d, Predicted=%f, Expected=%f' % ((i+1)/6, predictions[i], raw_values[len(train) + i + 1]))"
   ]
  },
  {
   "cell_type": "markdown",
   "metadata": {},
   "source": [
    "Generate proper data with 1 data shift"
   ]
  },
  {
   "cell_type": "code",
   "execution_count": null,
   "metadata": {},
   "outputs": [],
   "source": [
    "# walk-forward validation on the test data\n",
    "y_train = list()\n",
    "X_train = list()\n",
    "y_train.append(test_scaled[0, 0:-1][0])\n",
    "X_train.append(0)\n",
    "for i in range(1,len(test_scaled)):\n",
    "\t# make one-step forecast\n",
    "    X_train.append(test_scaled[i-1, 0:-1][0])\n",
    "    y_train.append(test_scaled[i, 0:-1][0])\n",
    "    \n",
    "for i in range(len(test_scaled)):\n",
    "\tprint('X_train=%f, y_train=%f' % (X_train[i], y_train[i]))"
   ]
  },
  {
   "cell_type": "markdown",
   "metadata": {},
   "source": [
    "## LSTM model\n",
    "\n",
    "Our goal is to create a LSTM model to predict y_train using the time series X_train"
   ]
  },
  {
   "cell_type": "code",
   "execution_count": null,
   "metadata": {},
   "outputs": [],
   "source": [
    "from keras import models \n",
    "from keras import layers\n",
    "\n",
    "def define_model(len_ts,\n",
    "                 hidden_neurons = 1,\n",
    "                 nfeature=1,\n",
    "                 batch_size=None,\n",
    "                 stateful=False):\n",
    "    in_out_neurons = 1\n",
    "    \n",
    "    inp = layers.Input(batch_shape= (batch_size, len_ts, nfeature),\n",
    "                       name=\"input\")  \n",
    "\n",
    "    rnn = layers.LSTM(hidden_neurons, \n",
    "                    return_sequences=True,\n",
    "                    stateful=stateful,\n",
    "                    name=\"RNN\")(inp)\n",
    "\n",
    "    dens = layers.TimeDistributed(layers.Dense(in_out_neurons,name=\"dense\"))(rnn)\n",
    "    model = models.Model(inputs=[inp],outputs=[dens])\n",
    "    \n",
    "    model.compile(loss=\"mean_squared_error\",\n",
    "                  sample_weight_mode=\"temporal\",\n",
    "                  optimizer=\"adam\")\n",
    "    return(model,(inp,rnn,dens))"
   ]
  },
  {
   "cell_type": "code",
   "execution_count": null,
   "metadata": {},
   "outputs": [],
   "source": [
    "X_train_array = np.array(X_train)\n",
    "y_train_array = np.array(y_train)\n",
    "hunits = 1\n",
    "model1, _ = define_model(\n",
    "    hidden_neurons = hunits,\n",
    "    len_ts = X_train_array.shape[0])\n",
    "model1.summary()"
   ]
  },
  {
   "cell_type": "code",
   "execution_count": null,
   "metadata": {},
   "outputs": [],
   "source": [
    "w = np.zeros(y_train_array.shape[:2])\n",
    "D=1\n",
    "w[D:] = 1 \n",
    "w_train = w"
   ]
  },
  {
   "cell_type": "code",
   "execution_count": null,
   "metadata": {},
   "outputs": [],
   "source": []
  },
  {
   "cell_type": "code",
   "execution_count": null,
   "metadata": {},
   "outputs": [],
   "source": [
    "from keras.callbacks import ModelCheckpoint\n",
    "start = time.time()\n",
    "hist1 = model1.fit(X_train_array, y_train_array, \n",
    "                   batch_size=2**9,\n",
    "                   epochs=200, \n",
    "                   verbose=False,\n",
    "                   sample_weight=w_train,\n",
    "                   validation_split=0.05,\n",
    "                   callbacks=[\n",
    "                   ModelCheckpoint(filepath=\"weights{epoch:03d}.hdf5\")])\n",
    "end = time.time()\n",
    "print(\"Time took {:3.1f} min\".format((end-start)/60))"
   ]
  },
  {
   "cell_type": "code",
   "execution_count": null,
   "metadata": {},
   "outputs": [],
   "source": []
  },
  {
   "cell_type": "code",
   "execution_count": null,
   "metadata": {},
   "outputs": [],
   "source": [
    "labels = [\"loss\",\"val_loss\"]\n",
    "for lab in labels:\n",
    "    plt.plot(hist1.history[lab],label=lab + \" model1\")\n",
    "plt.yscale(\"log\")\n",
    "plt.legend()\n",
    "plt.show()"
   ]
  },
  {
   "cell_type": "code",
   "execution_count": null,
   "metadata": {},
   "outputs": [],
   "source": [
    "for layer in model1.layers:\n",
    "        if \"LSTM\" in str(layer):\n",
    "            weightLSTM = layer.get_weights()\n",
    "warr,uarr, barr = weightLSTM\n",
    "print(warr)\n",
    "print(\"\\n\")\n",
    "print(uarr)\n",
    "print(\"\\n\")\n",
    "print(barr)\n",
    "\n",
    "print(model1.layers[2].get_weights())\n",
    "warr.shape,uarr.shape,barr.shape"
   ]
  },
  {
   "cell_type": "code",
   "execution_count": null,
   "metadata": {},
   "outputs": [],
   "source": [
    "def sigmoid(x):\n",
    "    return(1.0/(1.0+np.exp(-x)))\n",
    "def LSTMlayer(weight,x_t,h_tm1,c_tm1):\n",
    "    '''\n",
    "    c_tm1 = np.array([0,0]).reshape(1,2)\n",
    "    h_tm1 = np.array([0,0]).reshape(1,2)\n",
    "    x_t   = np.array([1]).reshape(1,1)\n",
    "    \n",
    "    warr.shape = (nfeature,hunits*4)\n",
    "    uarr.shape = (hunits,hunits*4)\n",
    "    barr.shape = (hunits*4,)\n",
    "    '''\n",
    "    warr,uarr, barr = weight\n",
    "    s_t = (x_t.dot(warr) + h_tm1.dot(uarr) + barr)\n",
    "    hunit = uarr.shape[0]\n",
    "    i  = sigmoid(s_t[:,:hunit])\n",
    "    f  = sigmoid(s_t[:,1*hunit:2*hunit])\n",
    "    _c = np.tanh(s_t[:,2*hunit:3*hunit])\n",
    "    o  = sigmoid(s_t[:,3*hunit:])\n",
    "    c_t = i*_c + f*c_tm1\n",
    "    h_t = o*np.tanh(c_t)\n",
    "    return(h_t,c_t)"
   ]
  },
  {
   "cell_type": "code",
   "execution_count": null,
   "metadata": {},
   "outputs": [],
   "source": [
    "c_tm1 = np.array([0]*hunits).reshape(1,hunits)\n",
    "h_tm1 = np.array([0]*hunits).reshape(1,hunits)"
   ]
  },
  {
   "cell_type": "code",
   "execution_count": null,
   "metadata": {},
   "outputs": [],
   "source": [
    "xs  = train_scaled[:,0]\n",
    "for i in range(len(xs)):\n",
    "    x_t = xs[i].reshape(1,1)\n",
    "    h_tm1,c_tm1 = LSTMlayer(weightLSTM,x_t,h_tm1,c_tm1)\n",
    "print(\"h3={}\".format(h_tm1))\n",
    "print(\"c3={}\".format(c_tm1))"
   ]
  },
  {
   "cell_type": "code",
   "execution_count": null,
   "metadata": {},
   "outputs": [],
   "source": []
  },
  {
   "cell_type": "code",
   "execution_count": null,
   "metadata": {},
   "outputs": [],
   "source": [
    "batch_size = 1\n",
    "len_ts = len(xs)\n",
    "nfeature = 1\n",
    "\n",
    "inp = layers.Input(batch_shape= (batch_size, len_ts, nfeature),\n",
    "                       name=\"input\")  \n",
    "rnn,s,c = layers.LSTM(hunits, \n",
    "                         return_sequences=True,\n",
    "                         stateful=False,\n",
    "                         return_state=True,\n",
    "                         name=\"RNN\")(inp)\n",
    "states = models.Model(inputs=[inp],outputs=[s,c, rnn])\n",
    "\n",
    "for layer in states.layers:\n",
    "    for layer1 in model1.layers:\n",
    "        if layer.name == layer1.name:\n",
    "            layer.set_weights(layer1.get_weights())\n",
    "            \n",
    "h_t_keras, c_t_keras, rnn = states.predict(xs.reshape(1,len_ts,1))\n",
    "print(\"h3={}\".format(h_t_keras))\n",
    "print(\"c3={}\".format(c_t_keras))"
   ]
  },
  {
   "cell_type": "code",
   "execution_count": null,
   "metadata": {},
   "outputs": [],
   "source": [
    "model1.layers[1].get_weights()[0]"
   ]
  },
  {
   "cell_type": "code",
   "execution_count": null,
   "metadata": {},
   "outputs": [],
   "source": []
  },
  {
   "cell_type": "code",
   "execution_count": null,
   "metadata": {},
   "outputs": [],
   "source": []
  },
  {
   "cell_type": "code",
   "execution_count": null,
   "metadata": {},
   "outputs": [],
   "source": []
  },
  {
   "cell_type": "code",
   "execution_count": null,
   "metadata": {},
   "outputs": [],
   "source": [
    "file_object =  open('parameters.h', 'w')"
   ]
  },
  {
   "cell_type": "code",
   "execution_count": null,
   "metadata": {},
   "outputs": [],
   "source": [
    "file_object.write(\"//\\n// Generated by spiderweak using Python.\\n//\\n\\n#ifndef CPP_PARAMETERS_H\\n#define CPP_PARAMETERS_H\\n\\n\")"
   ]
  },
  {
   "cell_type": "code",
   "execution_count": null,
   "metadata": {},
   "outputs": [],
   "source": [
    "file_object.write(\"#define HUNIT \" + str(hunits) + \"\\n\\n\")"
   ]
  },
  {
   "cell_type": "code",
   "execution_count": null,
   "metadata": {},
   "outputs": [],
   "source": [
    "file_object.write(\"#endif //CPP_PARAMETERS_H\\n\\nconst int hunit = HUNIT;\\n\\nconst float lstm_cell_input_weights[4 * HUNIT] = {\")"
   ]
  },
  {
   "cell_type": "code",
   "execution_count": null,
   "metadata": {},
   "outputs": [],
   "source": [
    "states.layers[1].get_weights()[0].tofile(\"weights.txt\", sep=\", \", format=\"%s\")"
   ]
  },
  {
   "cell_type": "code",
   "execution_count": null,
   "metadata": {},
   "outputs": [],
   "source": [
    "weight_file = open(\"weights.txt\", 'r')\n",
    "for line in weight_file:\n",
    "    file_object.write(line);\n",
    "weight_file.close()"
   ]
  },
  {
   "cell_type": "code",
   "execution_count": null,
   "metadata": {},
   "outputs": [],
   "source": [
    "file_object.write(\"};\\n\\nconst float lstm_cell_hidden_weights[4 * HUNIT * HUNIT] = {\")"
   ]
  },
  {
   "cell_type": "code",
   "execution_count": null,
   "metadata": {},
   "outputs": [],
   "source": [
    "states.layers[1].get_weights()[1].tofile(\"weights.txt\", sep=\", \", format=\"%s\")"
   ]
  },
  {
   "cell_type": "code",
   "execution_count": null,
   "metadata": {},
   "outputs": [],
   "source": [
    "weight_file = open(\"weights.txt\", 'r')\n",
    "for line in weight_file:\n",
    "    file_object.write(line);\n",
    "weight_file.close()"
   ]
  },
  {
   "cell_type": "code",
   "execution_count": null,
   "metadata": {},
   "outputs": [],
   "source": [
    "file_object.write(\"};\\n\\nconst float lstm_cell_bias[4 * HUNIT] = {\")"
   ]
  },
  {
   "cell_type": "code",
   "execution_count": null,
   "metadata": {},
   "outputs": [],
   "source": [
    "states.layers[1].get_weights()[2].tofile(\"weights.txt\", sep=\", \", format=\"%s\")"
   ]
  },
  {
   "cell_type": "code",
   "execution_count": null,
   "metadata": {},
   "outputs": [],
   "source": [
    "weight_file = open(\"weights.txt\", 'r')\n",
    "for line in weight_file:\n",
    "    file_object.write(line);\n",
    "weight_file.close()"
   ]
  },
  {
   "cell_type": "code",
   "execution_count": null,
   "metadata": {},
   "outputs": [],
   "source": [
    "file_object.write(\"};\\n\\nfloat lstm_cell_hidden_layer[HUNIT] = {\")"
   ]
  },
  {
   "cell_type": "code",
   "execution_count": null,
   "metadata": {},
   "outputs": [],
   "source": [
    "h_t_keras.tofile(\"weights.txt\", sep=\", \", format=\"%s\")"
   ]
  },
  {
   "cell_type": "code",
   "execution_count": null,
   "metadata": {},
   "outputs": [],
   "source": [
    "weight_file = open(\"weights.txt\", 'r')\n",
    "for line in weight_file:\n",
    "    file_object.write(line);\n",
    "weight_file.close()"
   ]
  },
  {
   "cell_type": "code",
   "execution_count": null,
   "metadata": {},
   "outputs": [],
   "source": [
    "file_object.write(\"};\\nfloat lstm_cell_cell_states[HUNIT] = {\")"
   ]
  },
  {
   "cell_type": "code",
   "execution_count": null,
   "metadata": {},
   "outputs": [],
   "source": [
    "c_t_keras.tofile(\"weights.txt\", sep=\", \", format=\"%s\")"
   ]
  },
  {
   "cell_type": "code",
   "execution_count": null,
   "metadata": {},
   "outputs": [],
   "source": [
    "weight_file = open(\"weights.txt\", 'r')\n",
    "for line in weight_file:\n",
    "    file_object.write(line);\n",
    "weight_file.close()"
   ]
  },
  {
   "cell_type": "code",
   "execution_count": null,
   "metadata": {},
   "outputs": [],
   "source": [
    "file_object.write(\"};\\n\\nconst float dense_weights[HUNIT] = {\")"
   ]
  },
  {
   "cell_type": "code",
   "execution_count": null,
   "metadata": {},
   "outputs": [],
   "source": [
    "model1.layers[2].get_weights()[0].tofile(\"weights.txt\", sep=\", \", format=\"%s\")"
   ]
  },
  {
   "cell_type": "code",
   "execution_count": null,
   "metadata": {},
   "outputs": [],
   "source": [
    "weight_file = open(\"weights.txt\", 'r')\n",
    "for line in weight_file:\n",
    "    file_object.write(line);\n",
    "weight_file.close()"
   ]
  },
  {
   "cell_type": "code",
   "execution_count": null,
   "metadata": {},
   "outputs": [],
   "source": [
    "file_object.write(\"};\\nconst float dense_bias = \")"
   ]
  },
  {
   "cell_type": "code",
   "execution_count": null,
   "metadata": {},
   "outputs": [],
   "source": [
    "model1.layers[2].get_weights()[1].tofile(\"weights.txt\", sep=\", \", format=\"%s\")"
   ]
  },
  {
   "cell_type": "code",
   "execution_count": null,
   "metadata": {},
   "outputs": [],
   "source": [
    "weight_file = open(\"weights.txt\", 'r')\n",
    "for line in weight_file:\n",
    "    file_object.write(line);\n",
    "weight_file.close()"
   ]
  },
  {
   "cell_type": "code",
   "execution_count": null,
   "metadata": {},
   "outputs": [],
   "source": [
    "file_object.write(\";\\n\")"
   ]
  },
  {
   "cell_type": "code",
   "execution_count": null,
   "metadata": {},
   "outputs": [],
   "source": [
    "file_object.close()"
   ]
  },
  {
   "cell_type": "code",
   "execution_count": null,
   "metadata": {},
   "outputs": [],
   "source": []
  },
  {
   "cell_type": "code",
   "execution_count": null,
   "metadata": {},
   "outputs": [],
   "source": []
  },
  {
   "cell_type": "code",
   "execution_count": null,
   "metadata": {},
   "outputs": [],
   "source": [
    "\n",
    "\n",
    "fig = plt.figure(figsize=(9,4))\n",
    "ax = fig.add_subplot(1,2,1)\n",
    "ax.plot(h_tm1.flatten(),h_t_keras.flatten(),\"p\")\n",
    "ax.set_xlabel(\"h by hand\")\n",
    "ax.set_ylabel(\"h by Keras\")\n",
    "\n",
    "ax = fig.add_subplot(1,2,2)\n",
    "ax.plot(c_tm1.flatten(),c_t_keras.flatten(),\"p\")\n",
    "ax.set_xlabel(\"c by hand\")\n",
    "ax.set_ylabel(\"c by Keras\")\n",
    "plt.show()"
   ]
  },
  {
   "cell_type": "code",
   "execution_count": null,
   "metadata": {},
   "outputs": [],
   "source": []
  },
  {
   "cell_type": "code",
   "execution_count": null,
   "metadata": {},
   "outputs": [],
   "source": []
  },
  {
   "cell_type": "code",
   "execution_count": null,
   "metadata": {},
   "outputs": [],
   "source": []
  },
  {
   "cell_type": "code",
   "execution_count": null,
   "metadata": {},
   "outputs": [],
   "source": []
  },
  {
   "cell_type": "code",
   "execution_count": null,
   "metadata": {},
   "outputs": [],
   "source": []
  }
 ],
 "metadata": {
  "kernelspec": {
   "display_name": "Python 3",
   "language": "python",
   "name": "python3"
  },
  "language_info": {
   "codemirror_mode": {
    "name": "ipython",
    "version": 3
   },
   "file_extension": ".py",
   "mimetype": "text/x-python",
   "name": "python",
   "nbconvert_exporter": "python",
   "pygments_lexer": "ipython3",
   "version": "3.7.3"
  }
 },
 "nbformat": 4,
 "nbformat_minor": 4
}
