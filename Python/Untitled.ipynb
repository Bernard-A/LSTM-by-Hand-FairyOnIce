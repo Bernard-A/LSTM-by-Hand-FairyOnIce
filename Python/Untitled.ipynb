{
 "cells": [
  {
   "cell_type": "code",
   "execution_count": 32,
   "metadata": {},
   "outputs": [
    {
     "data": {
      "text/plain": [
       "{155.27605, 164.897, 165.86206, 173.0813, 182.8583, 191.95605, 210.26813}"
      ]
     },
     "execution_count": 32,
     "metadata": {},
     "output_type": "execute_result"
    }
   ],
   "source": [
    "{191.95605 , 164.897   , 182.8583  , 155.27605 , 165.86206}"
   ]
  },
  {
   "cell_type": "code",
   "execution_count": 52,
   "metadata": {},
   "outputs": [],
   "source": [
    "previously_transmitted = 191.95605\n",
    "x_n = 164.897\n",
    "x_diff = x_n - previously_transmitted\n",
    "\n",
    "x_min = -363.16381836\n",
    "x_max = 373.3527832\n",
    "tx_min = 0.\n",
    "tx_max = 0.9;\n",
    "# Change this value to fit value for inferencing\n",
    "\n",
    "x_val = ((x_diff - x_min) / (x_max - x_min) * (tx_max - tx_min)) + tx_min;\n",
    "    \n",
    "    "
   ]
  },
  {
   "cell_type": "code",
   "execution_count": 53,
   "metadata": {},
   "outputs": [
    {
     "data": {
      "text/plain": [
       "0.4107094000098481"
      ]
     },
     "execution_count": 53,
     "metadata": {},
     "output_type": "execute_result"
    }
   ],
   "source": [
    "x_val"
   ]
  },
  {
   "cell_type": "code",
   "execution_count": 45,
   "metadata": {},
   "outputs": [],
   "source": [
    "y_val = 0.433686"
   ]
  },
  {
   "cell_type": "code",
   "execution_count": 42,
   "metadata": {},
   "outputs": [
    {
     "data": {
      "text/plain": [
       "-20.120572610296335"
      ]
     },
     "execution_count": 42,
     "metadata": {},
     "output_type": "execute_result"
    }
   ],
   "source": [
    "(y_val - tx_min) / (tx_max - tx_min) * (x_max - x_min) + x_min"
   ]
  },
  {
   "cell_type": "code",
   "execution_count": 38,
   "metadata": {},
   "outputs": [
    {
     "data": {
      "text/plain": [
       "37.1755"
      ]
     },
     "execution_count": 38,
     "metadata": {},
     "output_type": "execute_result"
    }
   ],
   "source": [
    "(y_val - tx_min) / (tx_max - tx_min) * (x_max - x_min) + x_min + previously_transmitted\n",
    "210.2568 - 173.0813"
   ]
  },
  {
   "cell_type": "code",
   "execution_count": null,
   "metadata": {},
   "outputs": [],
   "source": [
    "X_train=0.489216, y_train=0.419188\n",
    "X_train=0.419188, y_train=0.433686\n",
    "X_train=0.433686, y_train=0.419556\n",
    "X_train=0.419556, y_train=0.454473\n",
    "X_train=0.454473, y_train=0.524359\n",
    "X_train=0.524359, y_train=0.354362\n",
    "X_train=0.354362, y_train=0.452008\n",
    "X_train=0.452008, y_train=0.424531\n",
    "X_train=0.424531, y_train=0.437975\n",
    "X_train=0.437975, y_train=0.451010\n",
    "X_train=0.451010, y_train=0.425360\n",
    "X_train=0.425360, y_train=0.434361\n",
    "X_train=0.434361, y_train=0.446799"
   ]
  }
 ],
 "metadata": {
  "kernelspec": {
   "display_name": "Python 3",
   "language": "python",
   "name": "python3"
  },
  "language_info": {
   "codemirror_mode": {
    "name": "ipython",
    "version": 3
   },
   "file_extension": ".py",
   "mimetype": "text/x-python",
   "name": "python",
   "nbconvert_exporter": "python",
   "pygments_lexer": "ipython3",
   "version": "3.7.3"
  }
 },
 "nbformat": 4,
 "nbformat_minor": 4
}
