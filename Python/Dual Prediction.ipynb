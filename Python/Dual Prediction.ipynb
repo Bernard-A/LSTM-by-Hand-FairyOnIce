{
 "cells": [
  {
   "cell_type": "markdown",
   "metadata": {},
   "source": [
    "## Initialisation time series"
   ]
  },
  {
   "cell_type": "code",
   "execution_count": 13,
   "metadata": {},
   "outputs": [
    {
     "name": "stdout",
     "output_type": "stream",
     "text": [
      "python 3.7.3 (default, Jul 25 2020, 13:03:44) \n",
      "[GCC 8.3.0]\n",
      "keras version 2.4.3\n",
      "tensorflow version 2.4.0-dev20201012\n"
     ]
    }
   ],
   "source": [
    "import matplotlib.pyplot as plt\n",
    "import tensorflow as tf\n",
    "#from keras.backend.tensorflow_backend import set_session\n",
    "import keras\n",
    "import seaborn as sns\n",
    "import pandas as pd\n",
    "import sys, time\n",
    "import numpy as np\n",
    "import warnings\n",
    "\n",
    "\n",
    "from pandas import DataFrame\n",
    "from pandas import Series\n",
    "from pandas import concat\n",
    "from pandas import read_csv\n",
    "from pandas import datetime\n",
    "\n",
    "from sklearn.metrics import mean_squared_error\n",
    "from sklearn.preprocessing import MinMaxScaler\n",
    "\n",
    "\n",
    "#from keras.models import Sequential\n",
    "#from keras.layers import Dense\n",
    "#from keras.layers import LSTM\n",
    "#from math import sqrt\n",
    "\n",
    "\n",
    "warnings.filterwarnings(\"ignore\")\n",
    "print(\"python {}\".format(sys.version))\n",
    "print(\"keras version {}\".format(keras.__version__))\n",
    "print(\"tensorflow version {}\".format(tf.__version__))"
   ]
  },
  {
   "cell_type": "code",
   "execution_count": 14,
   "metadata": {},
   "outputs": [],
   "source": [
    "# date-time parsing function for loading the dataset\n",
    "def parser(x):\n",
    "\treturn datetime.strptime('190'+x, '%Y-%m')\n",
    " \n",
    "# frame a sequence as a supervised learning problem\n",
    "def timeseries_to_supervised(data, lag=1):\n",
    "\tdf = DataFrame(data)\n",
    "\tcolumns = [df.shift(i) for i in range(1, lag+1)]\n",
    "\tcolumns.append(df)\n",
    "\tdf = concat(columns, axis=1)\n",
    "\tdf.fillna(0, inplace=True)\n",
    "\treturn df\n",
    " \n",
    "# create a differenced series\n",
    "def difference(dataset, interval=1):\n",
    "\tdiff = list()\n",
    "\tfor i in range(interval, len(dataset)):\n",
    "\t\tvalue = dataset[i] - dataset[i - interval]\n",
    "\t\tdiff.append(value)\n",
    "\treturn Series(diff)\n",
    " \n",
    "# invert differenced value\n",
    "def inverse_difference(history, yhat, interval=1):\n",
    "\treturn yhat + history[-interval]\n",
    " \n",
    "# scale train and test data to [0, 1]\n",
    "def scale(train, test):\n",
    "\t# fit scaler\n",
    "\tscaler = MinMaxScaler(feature_range=(0, 0.9))\n",
    "\tscaler = scaler.fit(train)\n",
    "\tprint(scaler.data_min_)\n",
    "\tprint(scaler.data_max_)\n",
    "\t# transform train\n",
    "\ttrain = train.reshape(train.shape[0], train.shape[1])\n",
    "\ttrain_scaled = scaler.transform(train)\n",
    "\t# transform test\n",
    "\ttest = test.reshape(test.shape[0], test.shape[1])\n",
    "\ttest_scaled = scaler.transform(test)\n",
    "\treturn scaler, train_scaled, test_scaled\n",
    " \n",
    "# inverse scaling for a forecasted value\n",
    "def invert_scale(scaler, X, value):\n",
    "\tnew_row = [x for x in X] + [value]\n",
    "\tarray = np.array(new_row)\n",
    "\tarray = array.reshape(1, len(array))\n",
    "\tinverted = scaler.inverse_transform(array)\n",
    "\treturn inverted[0, -1]\n",
    "\n",
    "# fit an LSTM network to training data\n",
    "def fit_lstm(train, batch_size, nb_epoch, neurons):\n",
    "\tX, y = train[:, 0:-1], train[:, -1]\n",
    "\tX = X.reshape(X.shape[0], 1, X.shape[1])\n",
    "\tprint(X.shape)\n",
    "\tmodel = tf.keras.models.Sequential([])\n",
    "\tinp = keras.layers.Input(batch_shape= (batch_size, X.shape[1], X.shape[2]),name=\"input\")\n",
    "\trnn = keras.layers.LSTM(neurons, return_sequences=True, stateful=False,name=\"RNN\")(inp)\n",
    "\tdens = keras.layers.Dense(1,name=\"dense\")(rnn)#keras.layers.TimeDistributed(keras.layers.Dense(1,name=\"dense\"))(rnn)\n",
    "\tmodel = keras.models.Model(inputs=[inp],outputs=[dens])\n",
    "\tmodel.compile(loss=\"mean_squared_error\",\n",
    "                  sample_weight_mode=\"temporal\",\n",
    "                  optimizer=\"adam\")\n",
    "\tmodel.summary()\n",
    "\tmodel.fit(X, y, epochs=nb_epoch, batch_size=batch_size, verbose=0, shuffle=False)\n",
    "\treturn model\n",
    " \n",
    "# make a one-step forecast\n",
    "def forecast_lstm(model, batch_size, X):\n",
    "\tX = X.reshape(1, 1, len(X))\n",
    "\tyhat = model.predict(X, batch_size=batch_size)\n",
    "\treturn yhat[0,0]\n"
   ]
  },
  {
   "cell_type": "markdown",
   "metadata": {},
   "source": [
    "## Evaluation\n",
    "\n",
    "Fonction de détermination de l'erreur absolue en pourcentage\n",
    "\n",
    "Combien de \\% d'écart en moyenne entre la donnée prédite et la donnée mesurée"
   ]
  },
  {
   "cell_type": "code",
   "execution_count": 15,
   "metadata": {},
   "outputs": [],
   "source": [
    "def mean_absolute_percentage_error(y_true, y_pred): \n",
    "     return ((np.fabs(y_true - y_pred)/y_true).mean())"
   ]
  },
  {
   "cell_type": "markdown",
   "metadata": {},
   "source": [
    "## Importation des données\n",
    "\n",
    "Colonnes importées : 2e, 3e et 8e colonnes\n",
    "\n",
    "2e colonne : Temps\n",
    "3e colonne : identifiant Antenne\n",
    "7e colonne : Quantité de données"
   ]
  },
  {
   "cell_type": "code",
   "execution_count": 16,
   "metadata": {},
   "outputs": [],
   "source": [
    "dataframe = read_csv('dataset.csv', usecols=[1,2,7], engine='python')"
   ]
  },
  {
   "cell_type": "code",
   "execution_count": 17,
   "metadata": {},
   "outputs": [],
   "source": [
    "dataset = dataframe.values"
   ]
  },
  {
   "cell_type": "code",
   "execution_count": 18,
   "metadata": {},
   "outputs": [],
   "source": [
    "dataset = dataset.astype('float32')\n",
    "where_are_NaNs = np.isnan(dataset)\n",
    "dataset[where_are_NaNs] = 0"
   ]
  },
  {
   "cell_type": "markdown",
   "metadata": {},
   "source": [
    "## Sélection des données\n",
    "\n",
    "Isolation d'une antenne (ID : 39)\n",
    "\n",
    "Convertion du temps en heures"
   ]
  },
  {
   "cell_type": "code",
   "execution_count": 19,
   "metadata": {},
   "outputs": [],
   "source": [
    "newdataset1 = []\n",
    "newdataset2 = []\n",
    "\n",
    "for i in range(len(dataset)):\n",
    "    if dataset[i,1]==39:\n",
    "        a = dataset[i, 2]\n",
    "        b = (dataset[i, 0]-1383260400000)/3600000\n",
    "        newdataset1.append(a)\n",
    "        newdataset2.append(b)"
   ]
  },
  {
   "cell_type": "code",
   "execution_count": 20,
   "metadata": {},
   "outputs": [
    {
     "data": {
      "image/png": "[encoded data removed]",
      "text/plain": [
       "<Figure size 432x288 with 1 Axes>"
      ]
     },
     "metadata": {
      "needs_background": "light"
     },
     "output_type": "display_data"
    },
    {
     "data": {
      "image/png": "[encoded data removed]",
      "text/plain": [
       "<Figure size 432x288 with 1 Axes>"
      ]
     },
     "metadata": {
      "needs_background": "light"
     },
     "output_type": "display_data"
    },
    {
     "data": {
      "image/png": "[encoded data removed]",
      "text/plain": [
       "<Figure size 432x288 with 1 Axes>"
      ]
     },
     "metadata": {
      "needs_background": "light"
     },
     "output_type": "display_data"
    }
   ],
   "source": [
    "raw_values = np.asarray(newdataset1)\n",
    "l=len(raw_values)\n",
    "plt.plot(raw_values[:int(l/3)])\n",
    "plt.show()\n",
    "plt.plot(raw_values[int(l/3):-int(l/3)])\n",
    "plt.show()\n",
    "plt.plot(raw_values[-int(l/3):])\n",
    "plt.show()"
   ]
  },
  {
   "cell_type": "markdown",
   "metadata": {},
   "source": [
    "## Découpage du jeu de données\n",
    "\n",
    "Définition d'un jeu d'entrainement et d'un jeu de test\n",
    "\n",
    "Mise à l'échelle des données sur l'intervalle \\[0,1\\]"
   ]
  },
  {
   "cell_type": "code",
   "execution_count": 21,
   "metadata": {},
   "outputs": [
    {
     "name": "stdout",
     "output_type": "stream",
     "text": [
      "[-363.16381836 -363.16381836]\n",
      "[373.3527832 373.3527832]\n"
     ]
    },
    {
     "data": {
      "image/png": "[encoded data removed]",
      "text/plain": [
       "<Figure size 432x288 with 1 Axes>"
      ]
     },
     "metadata": {
      "needs_background": "light"
     },
     "output_type": "display_data"
    },
    {
     "data": {
      "image/png": "[encoded data removed]",
      "text/plain": [
       "<Figure size 432x288 with 1 Axes>"
      ]
     },
     "metadata": {
      "needs_background": "light"
     },
     "output_type": "display_data"
    }
   ],
   "source": [
    "diff_values = difference(raw_values, 1)\n",
    " \n",
    "# transform data to be supervised learning\n",
    "supervised = timeseries_to_supervised(diff_values, 1)\n",
    "supervised_values = supervised.values\n",
    " \n",
    "# split data into train and test-sets\n",
    "train, test = supervised_values[0:-int(l/3)], supervised_values[-int(l/3):]\n",
    " \n",
    "# transform the scale of the data\n",
    "scaler, train_scaled, test_scaled = scale(train, test)\n",
    "\n",
    "plt.plot(train_scaled[:int(l/3)])\n",
    "plt.show()\n",
    "plt.plot(test_scaled[:int(l/3)])\n",
    "plt.show()"
   ]
  },
  {
   "cell_type": "code",
   "execution_count": 22,
   "metadata": {},
   "outputs": [
    {
     "data": {
      "text/plain": [
       "191.95605"
      ]
     },
     "execution_count": 22,
     "metadata": {},
     "output_type": "execute_result"
    }
   ],
   "source": [
    "test_scaled[0]\n",
    "\n",
    "raw_values[-int(l/3)-0]"
   ]
  },
  {
   "cell_type": "markdown",
   "metadata": {},
   "source": [
    "## Entrainement"
   ]
  },
  {
   "cell_type": "code",
   "execution_count": 23,
   "metadata": {},
   "outputs": [
    {
     "name": "stdout",
     "output_type": "stream",
     "text": [
      "(1439, 1, 1)\n",
      "Model: \"model_1\"\n",
      "_________________________________________________________________\n",
      "Layer (type)                 Output Shape              Param #   \n",
      "=================================================================\n",
      "input (InputLayer)           [(1, 1, 1)]               0         \n",
      "_________________________________________________________________\n",
      "RNN (LSTM)                   (1, 1, 1)                 12        \n",
      "_________________________________________________________________\n",
      "dense (Dense)                (1, 1, 1)                 2         \n",
      "=================================================================\n",
      "Total params: 14\n",
      "Trainable params: 14\n",
      "Non-trainable params: 0\n",
      "_________________________________________________________________\n"
     ]
    },
    {
     "data": {
      "text/plain": [
       "array([[[0.4420827 ]],\n",
       "\n",
       "       [[0.45203984]],\n",
       "\n",
       "       [[0.43661827]],\n",
       "\n",
       "       ...,\n",
       "\n",
       "       [[0.43576947]],\n",
       "\n",
       "       [[0.4250751 ]],\n",
       "\n",
       "       [[0.44293618]]], dtype=float32)"
      ]
     },
     "execution_count": 23,
     "metadata": {},
     "output_type": "execute_result"
    }
   ],
   "source": [
    "hunits = 1\n",
    "\n",
    "lstm_model = fit_lstm(train_scaled, 1, 1, hunits)\n",
    "# forecast the entire training dataset to build up state for forecasting\n",
    "train_reshaped = train_scaled[:, 0].reshape(len(train_scaled), 1, 1)\n",
    "lstm_model.predict(train_reshaped, batch_size=1)"
   ]
  },
  {
   "cell_type": "markdown",
   "metadata": {},
   "source": [
    "## Prédiction\n",
    "\n",
    "Prédiction de la donnée et établissement d'un jeu de données prédite."
   ]
  },
  {
   "cell_type": "code",
   "execution_count": 12,
   "metadata": {},
   "outputs": [
    {
     "name": "stdout",
     "output_type": "stream",
     "text": [
      "hour=0, Not transmitted=189.884615, Expected=164.897003\n",
      "hour=0, Not transmitted=163.600883, Expected=182.858307\n",
      "hour=0, Not transmitted=181.690203, Expected=155.276047\n",
      "hour=0, Not transmitted=154.129088, Expected=165.862061\n",
      "hour=1, Not transmitted=164.718565, Expected=145.821472\n",
      "hour=1, Not transmitted=144.678513, Expected=163.629761\n",
      "hour=1, Not transmitted=162.486948, Expected=157.103607\n",
      "hour=1, Not transmitted=155.960795, Expected=183.635971\n",
      "hour=1, Not transmitted=182.493159, Expected=150.563354\n",
      "hour=1, Not transmitted=149.420542, Expected=164.106354\n",
      "hour=2, Not transmitted=162.963541, Expected=134.988403\n",
      "hour=2, Not transmitted=133.845591, Expected=141.608185\n",
      "hour=2, Not transmitted=140.465372, Expected=156.797821\n",
      "hour=2, Not transmitted=155.655009, Expected=128.033493\n",
      "hour=2, Not transmitted=126.890681, Expected=139.992706\n",
      "hour=2, Not transmitted=138.849894, Expected=159.881165\n",
      "hour=3, Not transmitted=158.738352, Expected=164.712021\n",
      "hour=3, Not transmitted=163.569208, Expected=162.614120\n",
      "hour=3, Not transmitted=161.471308, Expected=144.544479\n",
      "hour=3, Not transmitted=143.401667, Expected=132.654465\n",
      "hour=3, Not transmitted=131.511652, Expected=133.625351\n",
      "hour=3, Not transmitted=132.482539, Expected=125.026077\n",
      "hour=4, Not transmitted=123.883265, Expected=117.649826\n",
      "hour=4, Not transmitted=116.507014, Expected=130.966370\n",
      "hour=4, Not transmitted=129.823557, Expected=128.980774\n",
      "hour=4, Not transmitted=127.837962, Expected=115.817986\n",
      "hour=4, Not transmitted=114.675173, Expected=125.533104\n",
      "hour=4, Not transmitted=124.390292, Expected=121.991913\n",
      "hour=5, Not transmitted=120.849100, Expected=113.118286\n",
      "hour=5, Not transmitted=111.975474, Expected=129.486404\n",
      "hour=5, Not transmitted=128.343592, Expected=116.593254\n",
      "hour=5, Not transmitted=115.450442, Expected=104.210365\n",
      "hour=5, Not transmitted=103.067553, Expected=117.934402\n",
      "hour=5, Not transmitted=116.791590, Expected=125.855789\n",
      "hour=6, Not transmitted=124.712977, Expected=120.260826\n",
      "hour=6, Not transmitted=119.118014, Expected=125.247589\n",
      "hour=6, Not transmitted=124.104777, Expected=127.108162\n",
      "hour=6, Not transmitted=125.965350, Expected=110.700829\n",
      "hour=6, Not transmitted=109.558016, Expected=127.304375\n",
      "hour=6, Not transmitted=126.161562, Expected=145.784500\n",
      "hour=7, Not transmitted=144.641688, Expected=118.403046\n",
      "hour=7, Not transmitted=117.260233, Expected=158.152710\n",
      "hour=7, Not transmitted=157.009898, Expected=154.104416\n",
      "hour=7, Not transmitted=152.961603, Expected=147.138000\n",
      "hour=7, Not transmitted=145.995188, Expected=179.783234\n",
      "hour=7, Not transmitted=178.640421, Expected=214.888748\n",
      "hour=8, Not transmitted=213.745936, Expected=231.352890\n",
      "hour=8, Not transmitted=230.210078, Expected=231.367111\n",
      "hour=8, Not transmitted=230.224299, Expected=246.529984\n",
      "hour=8, Not transmitted=245.387171, Expected=247.186722\n",
      "hour=8, Not transmitted=246.043909, Expected=249.184052\n",
      "hour=8, Not transmitted=248.041239, Expected=287.423309\n",
      "hour=9, Not transmitted=286.280497, Expected=287.817322\n",
      "hour=9, Not transmitted=286.674509, Expected=274.187195\n",
      "hour=9, Not transmitted=273.044382, Expected=246.855698\n",
      "hour=9, Not transmitted=245.712885, Expected=274.846161\n",
      "hour=9, Not transmitted=273.703348, Expected=266.503662\n",
      "hour=9, Not transmitted=265.360850, Expected=268.067993\n",
      "hour=10, Not transmitted=266.925181, Expected=270.030304\n",
      "hour=10, Not transmitted=268.887492, Expected=292.871002\n",
      "hour=10, Not transmitted=291.728190, Expected=287.781891\n",
      "hour=10, Not transmitted=286.639078, Expected=260.860046\n",
      "hour=10, Not transmitted=259.717234, Expected=291.595703\n",
      "hour=10, Transmitted=290.452891, Expected=213.830490\n",
      "hour=11, Not transmitted=217.854490, Expected=286.868896\n",
      "hour=11, Not transmitted=286.576180, Expected=241.481033\n",
      "hour=11, Not transmitted=240.478432, Expected=227.948135\n",
      "hour=11, Not transmitted=226.828444, Expected=273.337646\n",
      "hour=11, Not transmitted=272.198639, Expected=259.466736\n",
      "hour=11, Not transmitted=258.324606, Expected=259.784729\n",
      "hour=12, Not transmitted=258.642014, Expected=243.826721\n",
      "hour=12, Not transmitted=242.683958, Expected=293.363739\n",
      "hour=12, Not transmitted=292.220975, Expected=308.372009\n",
      "hour=12, Not transmitted=307.229246, Expected=265.169434\n",
      "hour=12, Not transmitted=264.026670, Expected=259.645447\n",
      "hour=12, Not transmitted=258.502683, Expected=278.889008\n",
      "hour=13, Not transmitted=277.746244, Expected=335.302399\n",
      "hour=13, Not transmitted=334.159635, Expected=356.060730\n",
      "hour=13, Not transmitted=354.917966, Expected=291.547729\n",
      "hour=13, Not transmitted=290.404966, Expected=280.442963\n",
      "hour=13, Not transmitted=279.300199, Expected=300.218842\n",
      "hour=13, Not transmitted=299.076078, Expected=290.782074\n",
      "hour=14, Not transmitted=289.639310, Expected=300.967194\n",
      "hour=14, Not transmitted=299.824430, Expected=355.039673\n",
      "hour=14, Not transmitted=353.896909, Expected=336.531586\n",
      "hour=14, Not transmitted=335.388822, Expected=327.882874\n",
      "hour=14, Not transmitted=326.740110, Expected=306.397736\n",
      "hour=14, Not transmitted=305.254972, Expected=341.590637\n",
      "hour=15, Not transmitted=340.447874, Expected=301.759125\n",
      "hour=15, Not transmitted=300.616361, Expected=295.583191\n",
      "hour=15, Not transmitted=294.440427, Expected=335.030212\n",
      "hour=15, Not transmitted=333.887449, Expected=294.573547\n",
      "hour=15, Not transmitted=293.430784, Expected=310.025574\n",
      "hour=15, Not transmitted=308.882810, Expected=309.600708\n",
      "hour=16, Not transmitted=308.457944, Expected=301.023956\n",
      "hour=16, Not transmitted=299.881193, Expected=294.421844\n",
      "hour=16, Not transmitted=293.279081, Expected=316.676300\n",
      "hour=16, Not transmitted=315.533536, Expected=271.298370\n",
      "hour=16, Not transmitted=270.155607, Expected=292.170898\n",
      "hour=16, Not transmitted=291.028135, Expected=294.571960\n",
      "hour=17, Not transmitted=293.429197, Expected=309.955322\n",
      "hour=17, Not transmitted=308.812559, Expected=295.266724\n",
      "hour=17, Not transmitted=294.123960, Expected=336.435303\n",
      "hour=17, Not transmitted=335.292539, Expected=463.333954\n",
      "hour=17, Transmitted=462.191190, Expected=311.058014\n",
      "hour=17, Not transmitted=329.538563, Expected=418.259674\n",
      "hour=18, Transmitted=420.319426, Expected=308.694305\n",
      "hour=18, Not transmitted=324.351609, Expected=419.776947\n",
      "hour=18, Not transmitted=421.380312, Expected=459.637390\n",
      "hour=18, Transmitted=458.947038, Expected=335.752899\n",
      "hour=18, Not transmitted=341.221496, Expected=459.346924\n",
      "hour=18, Transmitted=459.290973, Expected=290.603394\n",
      "hour=19, Not transmitted=308.615239, Expected=276.383514\n",
      "hour=19, Not transmitted=278.367588, Expected=328.431549\n",
      "hour=19, Not transmitted=327.803803, Expected=400.292328\n",
      "hour=19, Not transmitted=399.234510, Expected=471.366394\n",
      "hour=19, Transmitted=470.237630, Expected=342.553253\n",
      "hour=19, Not transmitted=352.847902, Expected=341.955444\n",
      "hour=20, Not transmitted=342.687812, Expected=453.423431\n",
      "hour=20, Transmitted=452.589722, Expected=347.685608\n",
      "hour=20, Transmitted=363.960436, Expected=252.899200\n",
      "hour=20, Not transmitted=233.507627, Expected=257.849060\n",
      "hour=20, Not transmitted=253.664844, Expected=305.996155\n",
      "hour=20, Not transmitted=304.350690, Expected=279.343048\n",
      "hour=21, Transmitted=278.117289, Expected=415.977173\n",
      "hour=21, Transmitted=410.565811, Expected=243.473679\n",
      "hour=21, Not transmitted=263.323585, Expected=252.402206\n",
      "hour=21, Not transmitted=254.682799, Expected=264.712769\n",
      "hour=21, Not transmitted=264.133752, Expected=265.893463\n",
      "hour=21, Not transmitted=264.843645, Expected=275.002197\n",
      "hour=22, Not transmitted=273.874750, Expected=316.857819\n",
      "hour=22, Transmitted=315.717543, Expected=238.988663\n",
      "hour=22, Not transmitted=244.771094, Expected=330.815247\n",
      "hour=22, Not transmitted=330.810707, Expected=263.386017\n",
      "hour=22, Not transmitted=262.430901, Expected=240.539017\n",
      "hour=22, Not transmitted=239.427178, Expected=231.565979\n",
      "hour=23, Not transmitted=230.428288, Expected=201.696518\n",
      "hour=23, Not transmitted=200.554535, Expected=198.143005\n",
      "hour=23, Not transmitted=197.000339, Expected=227.166138\n",
      "hour=23, Not transmitted=226.023374, Expected=202.354568\n",
      "hour=23, Not transmitted=201.211805, Expected=218.640518\n",
      "hour=23, Not transmitted=217.497755, Expected=229.260880\n",
      "hour=24, Not transmitted=228.118116, Expected=228.770660\n",
      "hour=24, Not transmitted=227.627897, Expected=232.090591\n",
      "hour=24, Not transmitted=230.947828, Expected=181.124069\n",
      "hour=24, Not transmitted=179.981306, Expected=233.095673\n",
      "hour=24, Not transmitted=231.952909, Expected=222.553848\n",
      "hour=24, Not transmitted=221.411085, Expected=232.375595\n",
      "hour=25, Not transmitted=231.232831, Expected=204.210495\n"
     ]
    },
    {
     "name": "stdout",
     "output_type": "stream",
     "text": [
      "hour=25, Not transmitted=203.067731, Expected=194.252701\n",
      "hour=25, Not transmitted=193.109937, Expected=179.312546\n",
      "hour=25, Not transmitted=178.169782, Expected=167.345688\n",
      "hour=25, Not transmitted=166.202924, Expected=192.026093\n",
      "hour=25, Not transmitted=190.883329, Expected=147.733444\n",
      "hour=26, Not transmitted=146.590681, Expected=125.498482\n",
      "hour=26, Not transmitted=124.355718, Expected=163.487762\n",
      "hour=26, Not transmitted=162.344999, Expected=161.096390\n",
      "hour=26, Not transmitted=159.953626, Expected=156.546982\n",
      "hour=26, Not transmitted=155.404218, Expected=183.446945\n",
      "hour=26, Transmitted=182.304182, Expected=130.113937\n",
      "hour=27, Not transmitted=133.526096, Expected=125.494881\n",
      "hour=27, Not transmitted=125.101731, Expected=141.923218\n",
      "hour=27, Not transmitted=140.904057, Expected=132.926910\n",
      "hour=27, Not transmitted=131.804511, Expected=118.498741\n",
      "hour=27, Not transmitted=117.359294, Expected=153.355042\n",
      "hour=27, Not transmitted=152.212790, Expected=127.039879\n",
      "hour=28, Not transmitted=125.897164, Expected=123.001518\n",
      "hour=28, Not transmitted=121.858755, Expected=123.908821\n",
      "hour=28, Not transmitted=122.766057, Expected=127.936028\n",
      "hour=28, Not transmitted=126.793264, Expected=113.796478\n",
      "hour=28, Not transmitted=112.653715, Expected=120.214287\n",
      "hour=28, Not transmitted=119.071523, Expected=127.198494\n",
      "hour=29, Not transmitted=126.055730, Expected=119.742683\n",
      "hour=29, Not transmitted=118.599920, Expected=122.180679\n",
      "hour=29, Not transmitted=121.037916, Expected=122.269470\n",
      "hour=29, Not transmitted=121.126707, Expected=129.194168\n",
      "hour=29, Not transmitted=128.051404, Expected=127.813477\n",
      "hour=29, Not transmitted=126.670713, Expected=138.558044\n",
      "hour=30, Not transmitted=137.415281, Expected=128.902451\n",
      "hour=30, Not transmitted=127.759687, Expected=135.237274\n",
      "hour=30, Not transmitted=134.094511, Expected=141.155838\n",
      "hour=30, Not transmitted=140.013074, Expected=138.942001\n",
      "hour=30, Not transmitted=137.799238, Expected=150.559280\n",
      "hour=30, Not transmitted=149.416517, Expected=177.584030\n",
      "hour=31, Not transmitted=176.441267, Expected=211.596237\n",
      "hour=31, Not transmitted=210.453474, Expected=233.163620\n",
      "hour=31, Not transmitted=232.020856, Expected=256.863983\n",
      "hour=31, Not transmitted=255.721220, Expected=255.963791\n",
      "hour=31, Not transmitted=254.821027, Expected=234.333755\n",
      "hour=31, Not transmitted=233.190992, Expected=310.909698\n",
      "hour=32, Not transmitted=309.766935, Expected=261.675140\n",
      "hour=32, Not transmitted=260.532377, Expected=257.176880\n",
      "hour=32, Not transmitted=256.034116, Expected=292.706665\n",
      "hour=32, Not transmitted=291.563901, Expected=269.869537\n",
      "hour=32, Not transmitted=268.726774, Expected=293.541321\n",
      "hour=32, Not transmitted=292.398557, Expected=299.975250\n",
      "hour=33, Not transmitted=298.832487, Expected=273.157013\n",
      "hour=33, Not transmitted=272.014249, Expected=303.022644\n",
      "hour=33, Not transmitted=301.879880, Expected=340.295380\n",
      "hour=33, Not transmitted=339.152616, Expected=416.101624\n",
      "hour=33, Transmitted=414.958860, Expected=283.070068\n",
      "hour=33, Not transmitted=294.080748, Expected=360.622223\n",
      "hour=34, Not transmitted=361.471194, Expected=372.323059\n",
      "hour=34, Not transmitted=371.508520, Expected=320.834412\n",
      "hour=34, Not transmitted=319.745767, Expected=298.085297\n",
      "hour=34, Not transmitted=296.951411, Expected=281.957428\n",
      "hour=34, Not transmitted=280.816103, Expected=254.296051\n",
      "hour=34, Not transmitted=253.153483, Expected=311.974823\n",
      "hour=35, Not transmitted=310.832059, Expected=277.931366\n",
      "hour=35, Not transmitted=276.788602, Expected=261.309143\n",
      "hour=35, Not transmitted=260.166379, Expected=287.581604\n",
      "hour=35, Not transmitted=286.438840, Expected=254.982529\n",
      "hour=35, Not transmitted=253.839765, Expected=257.100983\n",
      "hour=35, Not transmitted=255.958219, Expected=255.180862\n",
      "hour=36, Not transmitted=254.038099, Expected=340.864685\n",
      "hour=36, Transmitted=339.721921, Expected=260.914459\n",
      "hour=36, Not transmitted=273.406538, Expected=330.924835\n",
      "hour=36, Not transmitted=332.014718, Expected=291.165802\n",
      "hour=36, Not transmitted=290.390943, Expected=284.988678\n",
      "hour=36, Not transmitted=283.906545, Expected=304.449951\n",
      "hour=37, Not transmitted=303.317187, Expected=304.430908\n",
      "hour=37, Not transmitted=303.289754, Expected=378.645996\n",
      "hour=37, Not transmitted=377.503476, Expected=301.692444\n",
      "hour=37, Not transmitted=300.549680, Expected=309.939209\n",
      "hour=37, Not transmitted=308.796445, Expected=316.727478\n",
      "hour=37, Not transmitted=315.584714, Expected=352.376068\n",
      "hour=38, Not transmitted=351.233304, Expected=320.549286\n",
      "hour=38, Not transmitted=319.406522, Expected=333.678009\n",
      "hour=38, Not transmitted=332.535245, Expected=282.299713\n",
      "hour=38, Not transmitted=281.156950, Expected=300.253540\n",
      "hour=38, Not transmitted=299.110776, Expected=342.036224\n",
      "hour=38, Not transmitted=340.893461, Expected=278.634674\n",
      "hour=39, Not transmitted=277.491910, Expected=364.290131\n",
      "hour=39, Transmitted=363.147367, Expected=278.325592\n",
      "hour=39, Not transmitted=290.813427, Expected=269.342773\n",
      "hour=39, Not transmitted=270.431998, Expected=268.773254\n",
      "hour=39, Not transmitted=267.998274, Expected=275.366821\n",
      "hour=39, Not transmitted=274.284688, Expected=296.960754\n",
      "hour=40, Not transmitted=295.827990, Expected=284.553711\n",
      "hour=40, Not transmitted=283.412557, Expected=294.392029\n",
      "hour=40, Not transmitted=293.249509, Expected=298.594849\n",
      "hour=40, Not transmitted=297.452085, Expected=323.971375\n",
      "hour=40, Not transmitted=322.828611, Expected=309.031342\n",
      "hour=40, Not transmitted=307.888578, Expected=291.251190\n",
      "hour=41, Not transmitted=290.108427, Expected=376.087646\n",
      "hour=41, Transmitted=374.944883, Expected=267.083252\n",
      "hour=41, Not transmitted=279.448948, Expected=276.483734\n",
      "hour=41, Not transmitted=277.553131, Expected=284.292542\n",
      "hour=41, Not transmitted=283.514293, Expected=284.973389\n",
      "hour=41, Not transmitted=283.890719, Expected=271.652679\n",
      "hour=42, Not transmitted=270.519818, Expected=264.964600\n",
      "hour=42, Not transmitted=263.823446, Expected=255.074921\n",
      "hour=42, Not transmitted=253.932401, Expected=257.197876\n",
      "hour=42, Not transmitted=256.055112, Expected=259.290314\n",
      "hour=42, Not transmitted=258.147550, Expected=243.953506\n",
      "hour=42, Not transmitted=242.810743, Expected=255.830032\n",
      "hour=43, Not transmitted=254.687269, Expected=249.820389\n",
      "hour=43, Not transmitted=248.677625, Expected=333.551300\n",
      "hour=43, Not transmitted=332.408536, Expected=428.843323\n",
      "hour=43, Not transmitted=427.700559, Expected=354.008728\n",
      "hour=43, Not transmitted=352.865964, Expected=397.184235\n",
      "hour=43, Transmitted=396.041471, Expected=275.763550\n",
      "hour=44, Not transmitted=281.753188, Expected=261.728638\n",
      "hour=44, Not transmitted=261.758048, Expected=254.270218\n",
      "hour=44, Not transmitted=253.320711, Expected=243.370392\n",
      "hour=44, Not transmitted=242.259480, Expected=266.519623\n",
      "hour=44, Not transmitted=265.382078, Expected=335.204712\n",
      "hour=44, Not transmitted=334.062753, Expected=327.974121\n",
      "hour=45, Not transmitted=326.831455, Expected=282.684479\n",
      "hour=45, Not transmitted=281.541715, Expected=274.951538\n",
      "hour=45, Not transmitted=273.808774, Expected=265.286041\n",
      "hour=45, Not transmitted=264.143278, Expected=271.921173\n",
      "hour=45, Not transmitted=270.778409, Expected=276.191620\n",
      "hour=45, Not transmitted=275.048856, Expected=245.526138\n",
      "hour=46, Not transmitted=244.383375, Expected=250.532761\n",
      "hour=46, Not transmitted=249.389997, Expected=225.521118\n",
      "hour=46, Not transmitted=224.378355, Expected=254.154526\n",
      "hour=46, Not transmitted=253.011762, Expected=241.409622\n",
      "hour=46, Not transmitted=240.266859, Expected=221.856445\n",
      "hour=46, Not transmitted=220.713682, Expected=237.204727\n",
      "hour=47, Not transmitted=236.061964, Expected=203.408371\n",
      "hour=47, Not transmitted=202.265607, Expected=231.900177\n",
      "hour=47, Not transmitted=230.757413, Expected=248.156464\n",
      "hour=47, Not transmitted=247.013700, Expected=206.899643\n",
      "hour=47, Not transmitted=205.756879, Expected=180.169373\n",
      "hour=47, Not transmitted=179.026609, Expected=186.183273\n",
      "hour=48, Not transmitted=185.040510, Expected=199.383789\n",
      "hour=48, Not transmitted=198.241025, Expected=170.661011\n",
      "hour=48, Not transmitted=169.518247, Expected=183.670319\n",
      "hour=48, Not transmitted=182.527555, Expected=167.949905\n",
      "hour=48, Not transmitted=166.807142, Expected=171.397018\n",
      "hour=48, Not transmitted=170.254255, Expected=164.248428\n",
      "hour=49, Not transmitted=163.105665, Expected=155.881729\n",
      "hour=49, Not transmitted=154.738966, Expected=153.072021\n",
      "hour=49, Not transmitted=151.929258, Expected=156.618057\n",
      "hour=49, Not transmitted=155.475294, Expected=141.650986\n",
      "hour=49, Not transmitted=140.508222, Expected=137.919647\n"
     ]
    },
    {
     "name": "stdout",
     "output_type": "stream",
     "text": [
      "hour=49, Not transmitted=136.776884, Expected=146.001526\n",
      "hour=50, Not transmitted=144.858762, Expected=187.715744\n",
      "hour=50, Transmitted=186.572980, Expected=140.972809\n",
      "hour=50, Not transmitted=146.732998, Expected=139.547180\n",
      "hour=50, Not transmitted=139.538983, Expected=129.108994\n",
      "hour=50, Not transmitted=128.153292, Expected=128.122192\n",
      "hour=50, Not transmitted=127.010281, Expected=132.897980\n",
      "hour=51, Not transmitted=131.760289, Expected=137.866653\n",
      "hour=51, Not transmitted=136.724670, Expected=125.573875\n",
      "hour=51, Not transmitted=124.431209, Expected=128.855545\n",
      "hour=51, Not transmitted=127.712781, Expected=146.388565\n",
      "hour=51, Not transmitted=145.245801, Expected=129.433960\n",
      "hour=51, Not transmitted=128.291196, Expected=128.872574\n",
      "hour=52, Not transmitted=127.729810, Expected=131.668411\n",
      "hour=52, Not transmitted=130.525648, Expected=114.341827\n",
      "hour=52, Not transmitted=113.199064, Expected=128.836563\n",
      "hour=52, Not transmitted=127.693799, Expected=125.681923\n",
      "hour=52, Not transmitted=124.539159, Expected=116.217293\n",
      "hour=52, Not transmitted=115.074529, Expected=123.804840\n",
      "hour=53, Not transmitted=122.662076, Expected=130.760025\n",
      "hour=53, Not transmitted=129.617261, Expected=115.006981\n",
      "hour=53, Transmitted=113.864217, Expected=175.366989\n",
      "hour=53, Not transmitted=171.794030, Expected=135.197739\n",
      "hour=53, Not transmitted=133.653438, Expected=112.458359\n",
      "hour=53, Not transmitted=111.249306, Expected=124.301819\n",
      "hour=54, Not transmitted=123.148080, Expected=163.537415\n",
      "hour=54, Transmitted=162.392797, Expected=123.439926\n",
      "hour=54, Not transmitted=128.810090, Expected=148.740662\n",
      "hour=54, Not transmitted=148.668566, Expected=163.477509\n",
      "hour=54, Transmitted=162.511271, Expected=121.018311\n",
      "hour=54, Not transmitted=122.472562, Expected=137.657623\n",
      "hour=55, Not transmitted=136.942712, Expected=159.507919\n",
      "hour=55, Not transmitted=158.435688, Expected=180.115372\n",
      "hour=55, Not transmitted=178.984217, Expected=170.196213\n",
      "hour=55, Not transmitted=169.055351, Expected=215.430756\n",
      "hour=55, Not transmitted=214.288236, Expected=232.607452\n",
      "hour=55, Not transmitted=231.464689, Expected=218.494720\n",
      "hour=56, Not transmitted=217.351957, Expected=232.724747\n",
      "hour=56, Not transmitted=231.581983, Expected=216.919739\n",
      "hour=56, Not transmitted=215.776975, Expected=262.358765\n",
      "hour=56, Not transmitted=261.216001, Expected=313.590088\n",
      "hour=56, Not transmitted=312.447324, Expected=249.617065\n",
      "hour=56, Not transmitted=248.474302, Expected=306.865814\n",
      "hour=57, Not transmitted=305.723051, Expected=281.474701\n",
      "hour=57, Not transmitted=280.331937, Expected=245.273819\n",
      "hour=57, Not transmitted=244.131055, Expected=279.545807\n",
      "hour=57, Not transmitted=278.403043, Expected=249.992538\n",
      "hour=57, Not transmitted=248.849775, Expected=276.379669\n",
      "hour=57, Not transmitted=275.236906, Expected=281.721924\n",
      "hour=58, Not transmitted=280.579160, Expected=228.815308\n",
      "hour=58, Not transmitted=227.672544, Expected=300.354980\n",
      "hour=58, Not transmitted=299.212217, Expected=284.945282\n",
      "hour=58, Not transmitted=283.802518, Expected=304.182159\n",
      "hour=58, Not transmitted=303.039396, Expected=264.409943\n",
      "hour=58, Not transmitted=263.267179, Expected=264.173798\n",
      "hour=59, Not transmitted=263.031034, Expected=292.006744\n",
      "hour=59, Not transmitted=290.863981, Expected=283.570190\n",
      "hour=59, Not transmitted=282.427427, Expected=305.139557\n",
      "hour=59, Not transmitted=303.996793, Expected=272.521881\n",
      "hour=59, Not transmitted=271.379117, Expected=264.346924\n",
      "hour=59, Not transmitted=263.204160, Expected=305.421234\n",
      "hour=60, Not transmitted=304.278471, Expected=294.901886\n",
      "hour=60, Not transmitted=293.759122, Expected=301.647491\n",
      "hour=60, Transmitted=300.504728, Expected=433.696106\n",
      "hour=60, Transmitted=433.849167, Expected=261.152161\n",
      "hour=60, Not transmitted=280.359252, Expected=253.204224\n",
      "hour=60, Not transmitted=255.381188, Expected=274.984985\n",
      "hour=61, Not transmitted=274.388921, Expected=259.938080\n",
      "hour=61, Not transmitted=258.885457, Expected=315.639069\n",
      "hour=61, Not transmitted=314.511182, Expected=313.291809\n",
      "hour=61, Not transmitted=312.151436, Expected=249.878387\n",
      "hour=61, Not transmitted=248.735990, Expected=272.962860\n",
      "hour=61, Not transmitted=271.820096, Expected=298.678741\n",
      "hour=62, Not transmitted=297.535978, Expected=260.448303\n",
      "hour=62, Not transmitted=259.305540, Expected=253.113251\n",
      "hour=62, Not transmitted=251.970487, Expected=273.786224\n",
      "hour=62, Not transmitted=272.643461, Expected=347.640717\n",
      "hour=62, Not transmitted=346.497953, Expected=361.602692\n",
      "hour=62, Not transmitted=360.459928, Expected=279.880341\n",
      "hour=63, Not transmitted=278.737577, Expected=265.137787\n",
      "hour=63, Not transmitted=263.995023, Expected=273.129974\n",
      "hour=63, Not transmitted=271.987211, Expected=237.816925\n",
      "hour=63, Not transmitted=236.674161, Expected=285.640167\n",
      "hour=63, Not transmitted=284.497404, Expected=248.441177\n",
      "hour=63, Transmitted=247.298414, Expected=359.112579\n",
      "hour=64, Not transmitted=351.902008, Expected=349.072052\n",
      "hour=64, Not transmitted=346.924714, Expected=308.288940\n",
      "hour=64, Not transmitted=306.980284, Expected=316.733276\n",
      "hour=64, Not transmitted=315.563100, Expected=304.199982\n",
      "hour=64, Not transmitted=303.052633, Expected=245.343567\n",
      "hour=64, Not transmitted=244.200023, Expected=283.301086\n",
      "hour=65, Not transmitted=282.158128, Expected=282.696747\n",
      "hour=65, Not transmitted=281.553934, Expected=316.876831\n",
      "hour=65, Not transmitted=315.734019, Expected=262.553741\n",
      "hour=65, Transmitted=261.410929, Expected=388.346832\n",
      "hour=65, Not transmitted=378.171780, Expected=314.812927\n",
      "hour=65, Not transmitted=312.172375, Expected=264.836456\n",
      "hour=66, Not transmitted=263.446342, Expected=286.916260\n",
      "hour=66, Not transmitted=285.732621, Expected=255.047180\n",
      "hour=66, Not transmitted=253.897636, Expected=288.760681\n",
      "hour=66, Not transmitted=287.616747, Expected=341.654358\n",
      "hour=66, Not transmitted=340.511399, Expected=334.667664\n",
      "hour=66, Not transmitted=333.524851, Expected=293.935364\n",
      "hour=67, Not transmitted=292.792551, Expected=294.349823\n",
      "hour=67, Not transmitted=293.207011, Expected=252.459625\n",
      "hour=67, Not transmitted=251.316813, Expected=281.533905\n",
      "hour=67, Not transmitted=280.391093, Expected=282.729187\n",
      "hour=67, Not transmitted=281.586375, Expected=243.313843\n",
      "hour=67, Not transmitted=242.171030, Expected=301.548279\n",
      "hour=68, Not transmitted=300.405466, Expected=392.268127\n",
      "hour=68, Not transmitted=391.125315, Expected=322.372375\n",
      "hour=68, Not transmitted=321.229563, Expected=286.839691\n",
      "hour=68, Not transmitted=285.696879, Expected=300.927063\n",
      "hour=68, Not transmitted=299.784251, Expected=277.533325\n",
      "hour=68, Not transmitted=276.390513, Expected=310.505402\n",
      "hour=69, Not transmitted=309.362589, Expected=320.999176\n",
      "hour=69, Not transmitted=319.856364, Expected=261.500732\n",
      "hour=69, Not transmitted=260.357920, Expected=343.700195\n",
      "hour=69, Transmitted=342.557383, Expected=247.253510\n",
      "hour=69, Not transmitted=259.225034, Expected=257.351410\n",
      "hour=69, Not transmitted=258.356713, Expected=224.237793\n",
      "hour=70, Not transmitted=223.449008, Expected=226.182693\n",
      "hour=70, Not transmitted=225.098317, Expected=196.758316\n",
      "hour=70, Not transmitted=195.625162, Expected=242.329330\n",
      "hour=70, Not transmitted=241.188079, Expected=296.560913\n",
      "hour=70, Not transmitted=295.418369, Expected=242.216797\n",
      "hour=70, Not transmitted=241.074033, Expected=203.194290\n",
      "hour=71, Not transmitted=202.051527, Expected=225.250381\n",
      "hour=71, Not transmitted=224.107618, Expected=241.706207\n",
      "hour=71, Not transmitted=240.563444, Expected=240.387299\n",
      "hour=71, Not transmitted=239.244535, Expected=268.104462\n",
      "hour=71, Not transmitted=266.961698, Expected=230.512238\n",
      "hour=71, Not transmitted=229.369474, Expected=223.284943\n",
      "hour=72, Not transmitted=222.142179, Expected=189.749451\n",
      "hour=72, Not transmitted=188.606687, Expected=183.478485\n",
      "hour=72, Not transmitted=182.335721, Expected=156.282806\n",
      "hour=72, Not transmitted=155.140043, Expected=183.528366\n",
      "hour=72, Not transmitted=182.385602, Expected=184.844513\n",
      "hour=72, Not transmitted=183.701749, Expected=162.349472\n",
      "hour=73, Not transmitted=161.206708, Expected=172.856735\n",
      "hour=73, Not transmitted=171.713972, Expected=180.044556\n",
      "hour=73, Not transmitted=178.901792, Expected=139.135529\n",
      "hour=73, Not transmitted=137.992765, Expected=174.474762\n",
      "hour=73, Not transmitted=173.331998, Expected=181.890320\n",
      "hour=73, Not transmitted=180.747556, Expected=153.271759\n",
      "hour=74, Not transmitted=152.128995, Expected=148.551971\n",
      "hour=74, Not transmitted=147.409208, Expected=148.196533\n"
     ]
    },
    {
     "name": "stdout",
     "output_type": "stream",
     "text": [
      "hour=74, Not transmitted=147.053770, Expected=133.513840\n",
      "hour=74, Not transmitted=132.371076, Expected=150.028870\n",
      "hour=74, Not transmitted=148.886106, Expected=147.046844\n",
      "hour=74, Not transmitted=145.904081, Expected=126.847046\n",
      "hour=75, Not transmitted=125.704282, Expected=133.513779\n",
      "hour=75, Not transmitted=132.371015, Expected=138.442749\n",
      "hour=75, Not transmitted=137.299985, Expected=131.955765\n",
      "hour=75, Not transmitted=130.813001, Expected=134.734436\n",
      "hour=75, Not transmitted=133.591672, Expected=134.035278\n",
      "hour=75, Not transmitted=132.892515, Expected=124.649376\n",
      "hour=76, Not transmitted=123.506612, Expected=136.012024\n",
      "hour=76, Not transmitted=134.869260, Expected=142.389969\n",
      "hour=76, Not transmitted=141.247205, Expected=116.817680\n",
      "hour=76, Not transmitted=115.674917, Expected=135.760788\n",
      "hour=76, Not transmitted=134.618024, Expected=123.157852\n",
      "hour=76, Not transmitted=122.015089, Expected=122.672173\n",
      "hour=77, Not transmitted=121.529409, Expected=115.891197\n",
      "hour=77, Not transmitted=114.748434, Expected=122.157570\n",
      "hour=77, Not transmitted=121.014806, Expected=124.374771\n",
      "hour=77, Not transmitted=123.232007, Expected=113.064407\n",
      "hour=77, Not transmitted=111.921644, Expected=127.731247\n",
      "hour=77, Not transmitted=126.588483, Expected=124.281410\n",
      "hour=78, Not transmitted=123.138647, Expected=122.343910\n",
      "hour=78, Not transmitted=121.201147, Expected=116.680672\n",
      "hour=78, Not transmitted=115.537908, Expected=114.255379\n",
      "hour=78, Not transmitted=113.112615, Expected=130.613297\n",
      "hour=78, Not transmitted=129.470533, Expected=131.926819\n",
      "hour=78, Not transmitted=130.784055, Expected=141.162003\n",
      "hour=79, Not transmitted=140.019239, Expected=150.327194\n",
      "hour=79, Not transmitted=149.184431, Expected=150.482544\n",
      "hour=79, Not transmitted=149.339780, Expected=180.614731\n",
      "hour=79, Not transmitted=179.471967, Expected=188.086227\n",
      "hour=79, Not transmitted=186.943464, Expected=205.626602\n",
      "hour=79, Not transmitted=204.483839, Expected=214.568298\n",
      "hour=80, Not transmitted=213.425535, Expected=236.984039\n",
      "hour=80, Not transmitted=235.841276, Expected=311.220917\n",
      "hour=80, Not transmitted=310.078153, Expected=290.763184\n",
      "hour=80, Not transmitted=289.620420, Expected=252.022156\n",
      "hour=80, Not transmitted=250.879392, Expected=320.758148\n",
      "hour=80, Not transmitted=319.615385, Expected=378.150238\n",
      "hour=81, Not transmitted=377.007474, Expected=481.636139\n",
      "hour=81, Transmitted=480.493375, Expected=236.548965\n",
      "hour=81, Not transmitted=251.665740, Expected=306.978760\n",
      "hour=81, Not transmitted=308.494569, Expected=265.507172\n",
      "hour=81, Not transmitted=264.802431, Expected=240.779556\n",
      "hour=81, Not transmitted=239.708983, Expected=244.287643\n",
      "hour=82, Not transmitted=243.156782, Expected=332.922150\n",
      "hour=82, Not transmitted=331.781337, Expected=287.473206\n",
      "hour=82, Not transmitted=286.330686, Expected=265.223114\n",
      "hour=82, Not transmitted=264.080350, Expected=328.745148\n",
      "hour=82, Not transmitted=327.602384, Expected=351.051636\n",
      "hour=82, Not transmitted=349.908872, Expected=287.630890\n",
      "hour=83, Not transmitted=286.488126, Expected=287.197205\n",
      "hour=83, Not transmitted=286.054441, Expected=264.283722\n",
      "hour=83, Not transmitted=263.140958, Expected=246.099197\n",
      "hour=83, Not transmitted=244.956434, Expected=287.757660\n",
      "hour=83, Transmitted=286.614896, Expected=214.450851\n",
      "hour=83, Not transmitted=220.202260, Expected=290.284454\n",
      "hour=84, Not transmitted=290.274842, Expected=243.541443\n",
      "hour=84, Not transmitted=242.585497, Expected=290.484436\n",
      "hour=84, Not transmitted=289.372451, Expected=318.830566\n",
      "hour=84, Not transmitted=317.692827, Expected=317.656403\n",
      "hour=84, Not transmitted=316.514419, Expected=304.138214\n",
      "hour=84, Not transmitted=302.995548, Expected=277.057007\n",
      "hour=85, Not transmitted=275.914243, Expected=346.330811\n",
      "hour=85, Not transmitted=345.188047, Expected=305.120880\n",
      "hour=85, Not transmitted=303.978117, Expected=310.998169\n",
      "hour=85, Not transmitted=309.855405, Expected=372.113739\n",
      "hour=85, Not transmitted=370.970975, Expected=343.712219\n",
      "hour=85, Not transmitted=342.569456, Expected=318.352478\n",
      "hour=86, Not transmitted=317.209714, Expected=349.002350\n",
      "hour=86, Not transmitted=347.859586, Expected=282.776611\n",
      "hour=86, Not transmitted=281.633848, Expected=284.427612\n",
      "hour=86, Not transmitted=283.284849, Expected=287.132172\n",
      "hour=86, Not transmitted=285.989408, Expected=285.337860\n",
      "hour=86, Not transmitted=284.195096, Expected=366.796234\n",
      "hour=87, Not transmitted=365.653471, Expected=471.842072\n",
      "hour=87, Transmitted=470.699308, Expected=322.112457\n",
      "hour=87, Not transmitted=337.456463, Expected=355.061829\n",
      "hour=87, Not transmitted=356.614416, Expected=327.444122\n",
      "hour=87, Not transmitted=326.745405, Expected=256.076050\n",
      "hour=87, Not transmitted=255.006501, Expected=319.831055\n",
      "hour=88, Not transmitted=318.700315, Expected=311.226471\n",
      "hour=88, Not transmitted=310.085658, Expected=329.589691\n",
      "hour=88, Not transmitted=328.447171, Expected=324.370270\n",
      "hour=88, Not transmitted=323.227506, Expected=349.668152\n",
      "hour=88, Not transmitted=348.525388, Expected=398.467926\n",
      "hour=88, Not transmitted=397.325162, Expected=314.370880\n",
      "hour=89, Not transmitted=313.228117, Expected=432.477570\n",
      "hour=89, Transmitted=431.334806, Expected=302.593994\n",
      "hour=89, Not transmitted=319.823106, Expected=314.231628\n",
      "hour=89, Not transmitted=316.089246, Expected=309.532684\n",
      "hour=89, Not transmitted=308.884135, Expected=398.657379\n",
      "hour=89, Not transmitted=397.596123, Expected=349.898132\n",
      "hour=90, Not transmitted=348.768783, Expected=269.971161\n",
      "hour=90, Not transmitted=268.830592, Expected=270.368652\n",
      "hour=90, Transmitted=269.226230, Expected=437.942474\n",
      "hour=90, Transmitted=437.053598, Expected=270.204651\n",
      "hour=90, Not transmitted=294.292401, Expected=271.645874\n",
      "hour=90, Not transmitted=274.607791, Expected=262.525604\n",
      "hour=91, Not transmitted=262.058532, Expected=281.985657\n",
      "hour=91, Not transmitted=280.954301, Expected=282.762787\n",
      "hour=91, Transmitted=281.638364, Expected=479.340118\n",
      "hour=91, Transmitted=478.513726, Expected=290.757568\n",
      "hour=91, Not transmitted=318.661456, Expected=256.762634\n",
      "hour=91, Not transmitted=260.335198, Expected=314.407501\n",
      "hour=92, Not transmitted=314.040691, Expected=250.339920\n",
      "hour=92, Not transmitted=249.325100, Expected=241.902756\n",
      "hour=92, Not transmitted=240.781064, Expected=244.271011\n",
      "hour=92, Not transmitted=243.131711, Expected=238.054703\n",
      "hour=92, Not transmitted=236.912476, Expected=259.197937\n",
      "hour=92, Not transmitted=258.055222, Expected=243.688644\n",
      "hour=93, Not transmitted=242.545881, Expected=259.005859\n",
      "hour=93, Not transmitted=257.863096, Expected=240.091965\n",
      "hour=93, Not transmitted=238.949201, Expected=271.414032\n",
      "hour=93, Not transmitted=270.271268, Expected=230.019531\n",
      "hour=93, Not transmitted=228.876768, Expected=255.967758\n",
      "hour=93, Not transmitted=254.824995, Expected=272.512299\n",
      "hour=94, Not transmitted=271.369535, Expected=357.792603\n",
      "hour=94, Transmitted=356.649839, Expected=237.222290\n",
      "hour=94, Not transmitted=249.654177, Expected=259.764587\n",
      "hour=94, Not transmitted=260.844715, Expected=268.765167\n",
      "hour=94, Not transmitted=267.988674, Expected=352.962006\n",
      "hour=94, Not transmitted=351.879677, Expected=299.176941\n",
      "hour=95, Not transmitted=298.044128, Expected=289.281311\n",
      "hour=95, Not transmitted=288.140157, Expected=386.234344\n",
      "hour=95, Transmitted=385.091825, Expected=294.312439\n",
      "hour=95, Not transmitted=308.472710, Expected=305.710266\n",
      "hour=95, Not transmitted=307.071011, Expected=269.878754\n",
      "hour=95, Not transmitted=269.148453, Expected=246.673981\n",
      "hour=96, Transmitted=245.599213, Expected=407.563049\n",
      "hour=96, Not transmitted=402.735628, Expected=411.937317\n",
      "hour=96, Transmitted=410.185321, Expected=227.275192\n",
      "hour=96, Not transmitted=227.039887, Expected=226.417191\n",
      "hour=96, Not transmitted=225.424028, Expected=216.976501\n",
      "hour=96, Not transmitted=215.858419, Expected=206.005020\n",
      "hour=97, Not transmitted=204.866256, Expected=172.123276\n",
      "hour=97, Not transmitted=170.981146, Expected=170.760056\n",
      "hour=97, Not transmitted=169.617341, Expected=168.861221\n",
      "hour=97, Not transmitted=167.718458, Expected=159.560776\n",
      "hour=97, Not transmitted=158.418012, Expected=155.943054\n",
      "hour=97, Not transmitted=154.800291, Expected=209.808594\n",
      "hour=98, Not transmitted=208.665830, Expected=209.893219\n",
      "hour=98, Transmitted=208.750455, Expected=139.202408\n",
      "hour=98, Not transmitted=138.262022, Expected=155.323242\n",
      "hour=98, Not transmitted=154.213842, Expected=143.051498\n",
      "hour=98, Not transmitted=141.914198, Expected=134.494843\n",
      "hour=98, Not transmitted=133.352933, Expected=146.712830\n"
     ]
    },
    {
     "name": "stdout",
     "output_type": "stream",
     "text": [
      "hour=99, Not transmitted=145.570164, Expected=132.514542\n",
      "hour=99, Not transmitted=131.371778, Expected=137.102554\n",
      "hour=99, Not transmitted=135.959791, Expected=141.428085\n",
      "hour=99, Not transmitted=140.285322, Expected=126.807983\n",
      "hour=99, Not transmitted=125.665220, Expected=131.631287\n",
      "hour=99, Not transmitted=130.488523, Expected=139.483826\n",
      "hour=100, Not transmitted=138.341062, Expected=120.017540\n",
      "hour=100, Not transmitted=118.874776, Expected=127.596695\n",
      "hour=100, Not transmitted=126.453931, Expected=125.245529\n",
      "hour=100, Not transmitted=124.102766, Expected=115.659546\n",
      "hour=100, Not transmitted=114.516782, Expected=117.857323\n",
      "hour=100, Not transmitted=116.714559, Expected=129.406525\n",
      "hour=101, Not transmitted=128.263761, Expected=116.901215\n",
      "hour=101, Not transmitted=115.758451, Expected=124.424240\n",
      "hour=101, Not transmitted=123.281476, Expected=118.005714\n",
      "hour=101, Not transmitted=116.862951, Expected=116.772049\n",
      "hour=101, Not transmitted=115.629285, Expected=125.926559\n",
      "hour=101, Not transmitted=124.783796, Expected=122.882607\n",
      "hour=102, Not transmitted=121.739843, Expected=120.252579\n",
      "hour=102, Not transmitted=119.109815, Expected=133.964676\n",
      "hour=102, Not transmitted=132.821912, Expected=139.796432\n",
      "hour=102, Not transmitted=138.653669, Expected=118.837151\n",
      "hour=102, Not transmitted=117.694387, Expected=149.049942\n",
      "hour=102, Not transmitted=147.907178, Expected=159.527863\n",
      "hour=103, Not transmitted=158.385099, Expected=157.725723\n",
      "hour=103, Not transmitted=156.582960, Expected=190.775635\n",
      "hour=103, Not transmitted=189.632871, Expected=201.679230\n",
      "hour=103, Not transmitted=200.536466, Expected=207.382446\n",
      "hour=103, Not transmitted=206.239683, Expected=213.686768\n",
      "hour=103, Not transmitted=212.544004, Expected=241.512527\n",
      "hour=104, Not transmitted=240.369764, Expected=233.567383\n",
      "hour=104, Not transmitted=232.424619, Expected=284.583893\n",
      "hour=104, Not transmitted=283.441129, Expected=293.647369\n",
      "hour=104, Not transmitted=292.504606, Expected=236.378998\n",
      "hour=104, Not transmitted=235.236234, Expected=267.990692\n",
      "hour=104, Not transmitted=266.847929, Expected=274.051849\n",
      "hour=105, Not transmitted=272.909086, Expected=292.629852\n",
      "hour=105, Not transmitted=291.487089, Expected=314.481720\n",
      "hour=105, Not transmitted=313.338956, Expected=302.011536\n",
      "hour=105, Not transmitted=300.868772, Expected=256.440643\n",
      "hour=105, Not transmitted=255.297880, Expected=306.036591\n",
      "hour=105, Not transmitted=304.893827, Expected=367.589325\n",
      "hour=106, Not transmitted=366.446561, Expected=289.880707\n",
      "hour=106, Not transmitted=288.737943, Expected=339.006439\n",
      "hour=106, Not transmitted=337.863676, Expected=336.065491\n",
      "hour=106, Not transmitted=334.922727, Expected=436.302795\n",
      "hour=106, Transmitted=435.160032, Expected=302.990875\n",
      "hour=106, Not transmitted=317.633020, Expected=322.268311\n",
      "hour=107, Not transmitted=323.707148, Expected=308.984772\n",
      "hour=107, Not transmitted=308.267300, Expected=261.814667\n",
      "hour=107, Not transmitted=260.742021, Expected=270.937256\n",
      "hour=107, Not transmitted=269.806028, Expected=262.768829\n",
      "hour=107, Not transmitted=261.627944, Expected=301.025146\n",
      "hour=107, Not transmitted=299.882627, Expected=294.695557\n",
      "hour=108, Not transmitted=293.552793, Expected=296.899658\n",
      "hour=108, Not transmitted=295.756895, Expected=275.198120\n",
      "hour=108, Not transmitted=274.055356, Expected=268.536713\n",
      "hour=108, Not transmitted=267.393949, Expected=307.071472\n",
      "hour=108, Not transmitted=305.928709, Expected=410.775970\n",
      "hour=108, Not transmitted=409.633207, Expected=391.514771\n",
      "hour=109, Not transmitted=390.372007, Expected=333.908478\n",
      "hour=109, Not transmitted=332.765714, Expected=303.223816\n",
      "hour=109, Not transmitted=302.081052, Expected=264.064453\n",
      "hour=109, Not transmitted=262.921690, Expected=278.454346\n",
      "hour=109, Not transmitted=277.311582, Expected=331.505249\n",
      "hour=109, Not transmitted=330.362485, Expected=307.637329\n",
      "hour=110, Not transmitted=306.494565, Expected=292.598602\n",
      "hour=110, Not transmitted=291.455839, Expected=351.101837\n",
      "hour=110, Not transmitted=349.959074, Expected=361.863190\n",
      "hour=110, Not transmitted=360.720426, Expected=295.459991\n",
      "hour=110, Not transmitted=294.317228, Expected=271.981842\n",
      "hour=110, Not transmitted=270.839078, Expected=346.310089\n",
      "hour=111, Not transmitted=345.167325, Expected=337.872894\n",
      "hour=111, Not transmitted=336.730131, Expected=421.751923\n",
      "hour=111, Not transmitted=420.609159, Expected=330.241486\n",
      "hour=111, Not transmitted=329.098722, Expected=369.093842\n",
      "hour=111, Not transmitted=367.951078, Expected=337.267975\n",
      "hour=111, Not transmitted=336.125211, Expected=268.156006\n",
      "hour=112, Not transmitted=267.013242, Expected=306.118561\n",
      "hour=112, Not transmitted=304.975797, Expected=330.172821\n",
      "hour=112, Not transmitted=329.030057, Expected=304.563141\n",
      "hour=112, Not transmitted=303.420377, Expected=334.786011\n",
      "hour=112, Not transmitted=333.643247, Expected=314.614868\n",
      "hour=112, Not transmitted=313.472105, Expected=326.903931\n",
      "hour=113, Not transmitted=325.761167, Expected=327.267883\n",
      "hour=113, Not transmitted=326.125120, Expected=301.682800\n",
      "hour=113, Not transmitted=300.540037, Expected=365.119049\n",
      "hour=113, Transmitted=363.976285, Expected=274.652405\n",
      "hour=113, Not transmitted=283.782685, Expected=258.647583\n",
      "hour=113, Not transmitted=259.190133, Expected=311.631622\n",
      "hour=114, Not transmitted=310.766647, Expected=299.786194\n",
      "hour=114, Transmitted=298.689232, Expected=229.500122\n",
      "hour=114, Not transmitted=226.580928, Expected=277.432037\n",
      "hour=114, Not transmitted=275.995828, Expected=273.377258\n",
      "hour=114, Not transmitted=272.186034, Expected=274.909241\n",
      "hour=114, Not transmitted=273.758478, Expected=275.076233\n",
      "hour=115, Not transmitted=273.932104, Expected=329.824982\n",
      "hour=115, Not transmitted=328.681974, Expected=294.834015\n",
      "hour=115, Not transmitted=293.691202, Expected=264.246826\n",
      "hour=115, Not transmitted=263.104014, Expected=261.551971\n",
      "hour=115, Not transmitted=260.409159, Expected=253.937958\n",
      "hour=115, Not transmitted=252.795145, Expected=263.393555\n",
      "hour=116, Not transmitted=262.250742, Expected=272.553741\n",
      "hour=116, Not transmitted=271.410929, Expected=245.151367\n",
      "hour=116, Not transmitted=244.008555, Expected=247.001709\n",
      "hour=116, Not transmitted=245.858897, Expected=226.058929\n",
      "hour=116, Transmitted=224.916117, Expected=378.102081\n",
      "hour=116, Transmitted=373.656515, Expected=235.856537\n",
      "hour=117, Not transmitted=257.838681, Expected=203.545456\n",
      "hour=117, Not transmitted=206.169223, Expected=240.923553\n",
      "hour=117, Not transmitted=240.400923, Expected=255.913467\n",
      "hour=117, Not transmitted=254.872990, Expected=240.966675\n",
      "hour=117, Not transmitted=239.840739, Expected=219.774551\n",
      "hour=117, Not transmitted=218.634544, Expected=236.384979\n",
      "hour=118, Not transmitted=235.242655, Expected=209.405762\n",
      "hour=118, Not transmitted=208.263047, Expected=249.924347\n",
      "hour=118, Not transmitted=248.781583, Expected=288.877045\n",
      "hour=118, Not transmitted=287.734281, Expected=257.197876\n",
      "hour=118, Not transmitted=256.055112, Expected=298.592346\n",
      "hour=118, Not transmitted=297.449583, Expected=328.448181\n",
      "hour=119, Not transmitted=327.305418, Expected=259.023102\n",
      "hour=119, Not transmitted=257.880338, Expected=232.109680\n",
      "hour=119, Not transmitted=230.966917, Expected=287.042694\n",
      "hour=119, Not transmitted=285.899930, Expected=268.860168\n",
      "hour=119, Not transmitted=267.717405, Expected=316.825775\n",
      "hour=119, Not transmitted=315.683012, Expected=269.391113\n",
      "0.061196105702364396\n"
     ]
    }
   ],
   "source": [
    "# walk-forward validation on the test data\n",
    "predictions = list()\n",
    "X = test_scaled[0, 0:-1]\n",
    "X_diff_scaled = X\n",
    "count=0\n",
    "for i in range(1, len(test_scaled)):\n",
    "\t# make one-step forecast\n",
    "\ty_diff_scaled = forecast_lstm(lstm_model, 1, X_diff_scaled)\n",
    "\t# invert scaling\n",
    "\ty_diff = invert_scale(scaler, X_diff_scaled, y_diff_scaled)\n",
    "\t# invert differencing\n",
    "\tyhat = inverse_difference(raw_values, y_diff, len(test_scaled)+1-i)\n",
    "\t# store forecast\n",
    "\texpected = raw_values[len(train) + i + 1]\n",
    "\tif (np.abs(yhat - expected)/expected) > 0.3 :\n",
    "\t\tprint('hour=%d, Transmitted=%f, Expected=%f' % ((i+1)/6, yhat, expected))\n",
    "\t\tX_diff_scaled = test_scaled[i, 0:-1]\n",
    "\t\tcount+=1\n",
    "\telse :\n",
    "\t\tprint('hour=%d, Not transmitted=%f, Expected=%f' % ((i+1)/6, yhat, expected))\n",
    "\t\tX_diff_scaled = y_diff_scaled\n",
    "print(count/len(test_scaled))"
   ]
  },
  {
   "cell_type": "markdown",
   "metadata": {},
   "source": [
    "Generate proper data with 1 data shift"
   ]
  },
  {
   "cell_type": "code",
   "execution_count": null,
   "metadata": {},
   "outputs": [],
   "source": [
    "# walk-forward validation on the training data\n",
    "X_train = list()\n",
    "y_train = list()\n",
    "\n",
    "X_train.append(train_scaled[len(train_scaled)-1, 0:-1][0])\n",
    "y_train.append(train_scaled[0, 0:-1][0])\n",
    "\n",
    "for i in range(1,len(train_scaled)):\n",
    "\t# make one-step forecast\n",
    "    X_train.append(train_scaled[i-1, 0:-1][0])\n",
    "    y_train.append(train_scaled[i, 0:-1][0])\n",
    "    \n",
    "for i in range(len(train_scaled)):\n",
    "\tprint('X_train=%f, y_train=%f' % (X_train[i], y_train[i]))"
   ]
  },
  {
   "cell_type": "code",
   "execution_count": null,
   "metadata": {},
   "outputs": [],
   "source": [
    "# walk-forward validation on the testing data\n",
    "X_test = list()\n",
    "y_test = list()\n",
    "\n",
    "X_test.append(test_scaled[len(test_scaled)-1, 0:-1][0])\n",
    "y_test.append(test_scaled[0, 0:-1][0])\n",
    "\n",
    "for i in range(1,len(test_scaled)):\n",
    "\t# make one-step forecast\n",
    "    X_test.append(test_scaled[i-1, 0:-1][0])\n",
    "    y_test.append(test_scaled[i, 0:-1][0])\n",
    "    \n",
    "for i in range(len(test_scaled)):\n",
    "\tprint('X_test=%f, y_test=%f' % (X_test[i], y_test[i]))"
   ]
  },
  {
   "cell_type": "code",
   "execution_count": null,
   "metadata": {},
   "outputs": [],
   "source": []
  },
  {
   "cell_type": "code",
   "execution_count": null,
   "metadata": {},
   "outputs": [],
   "source": []
  },
  {
   "cell_type": "markdown",
   "metadata": {},
   "source": [
    "## LSTM model\n",
    "\n",
    "Our goal is to create a LSTM model to predict y_train using the time series X_train"
   ]
  },
  {
   "cell_type": "code",
   "execution_count": null,
   "metadata": {},
   "outputs": [],
   "source": []
  },
  {
   "cell_type": "code",
   "execution_count": null,
   "metadata": {},
   "outputs": [],
   "source": [
    "X_train_array = np.array(X_train)\n",
    "y_train_array = np.array(y_train)\n",
    "model1 = lstm_model\n",
    "model1.summary()"
   ]
  },
  {
   "cell_type": "code",
   "execution_count": null,
   "metadata": {},
   "outputs": [],
   "source": [
    "w = np.zeros(y_train_array.shape[:2])\n",
    "D=1\n",
    "w[D:] = 1 \n",
    "w_train = w"
   ]
  },
  {
   "cell_type": "code",
   "execution_count": null,
   "metadata": {},
   "outputs": [],
   "source": []
  },
  {
   "cell_type": "markdown",
   "metadata": {},
   "source": [
    "from keras.callbacks import ModelCheckpoint\n",
    "start = time.time()\n",
    "hist1 = model1.fit(X_train_array, y_train_array, \n",
    "                   batch_size=1,\n",
    "                   epochs=50, \n",
    "                   verbose=False,\n",
    "                   validation_split=0.5,\n",
    "                   shuffle=False)\n",
    "end = time.time()\n",
    "print(\"Time took {:3.1f} min\".format((end-start)/60))"
   ]
  },
  {
   "cell_type": "code",
   "execution_count": null,
   "metadata": {},
   "outputs": [],
   "source": []
  },
  {
   "cell_type": "markdown",
   "metadata": {},
   "source": [
    "labels = [\"loss\",\"val_loss\"]\n",
    "for lab in labels:\n",
    "    plt.plot(hist1.history[lab],label=lab + \" model1\")\n",
    "plt.yscale(\"log\")\n",
    "plt.legend()\n",
    "plt.show()"
   ]
  },
  {
   "cell_type": "code",
   "execution_count": null,
   "metadata": {},
   "outputs": [],
   "source": [
    "for layer in model1.layers:\n",
    "        if \"LSTM\" in str(layer):\n",
    "            weightLSTM = layer.get_weights()\n",
    "warr,uarr, barr = weightLSTM\n",
    "print(warr)\n",
    "print(\"\\n\")\n",
    "print(uarr)\n",
    "print(\"\\n\")\n",
    "print(barr)\n",
    "\n",
    "print(model1.layers[2].get_weights())\n",
    "warr.shape,uarr.shape,barr.shape"
   ]
  },
  {
   "cell_type": "code",
   "execution_count": null,
   "metadata": {},
   "outputs": [],
   "source": [
    "def sigmoid(x):\n",
    "    return(1.0/(1.0+np.exp(-x)))\n",
    "def LSTMlayer(weight,x_t,h_tm1,c_tm1):\n",
    "    '''\n",
    "    c_tm1 = np.array([0,0]).reshape(1,2)\n",
    "    h_tm1 = np.array([0,0]).reshape(1,2)\n",
    "    x_t   = np.array([1]).reshape(1,1)\n",
    "    \n",
    "    warr.shape = (nfeature,hunits*4)\n",
    "    uarr.shape = (hunits,hunits*4)\n",
    "    barr.shape = (hunits*4,)\n",
    "    '''\n",
    "    warr,uarr, barr = weight\n",
    "    s_t = (x_t.dot(warr) + h_tm1.dot(uarr) + barr)\n",
    "    hunit = uarr.shape[0]\n",
    "    i  = sigmoid(s_t[:,:hunit])\n",
    "    f  = sigmoid(s_t[:,1*hunit:2*hunit])\n",
    "    _c = np.tanh(s_t[:,2*hunit:3*hunit])\n",
    "    o  = sigmoid(s_t[:,3*hunit:])\n",
    "    c_t = i*_c + f*c_tm1\n",
    "    h_t = o*np.tanh(c_t)\n",
    "    return(h_t,c_t)"
   ]
  },
  {
   "cell_type": "code",
   "execution_count": null,
   "metadata": {},
   "outputs": [],
   "source": [
    "c_tm1 = np.array([0]*hunits).reshape(1,hunits)\n",
    "h_tm1 = np.array([0]*hunits).reshape(1,hunits)"
   ]
  },
  {
   "cell_type": "code",
   "execution_count": null,
   "metadata": {},
   "outputs": [],
   "source": [
    "xs  = X_train_array\n",
    "for i in range(len(xs)):\n",
    "    x_t = xs[i].reshape(1,1)\n",
    "    h_tm1,c_tm1 = LSTMlayer(weightLSTM,x_t,h_tm1,c_tm1)\n",
    "print(\"h3={}\".format(h_tm1))\n",
    "print(\"c3={}\".format(c_tm1))"
   ]
  },
  {
   "cell_type": "code",
   "execution_count": null,
   "metadata": {},
   "outputs": [],
   "source": [
    "xs"
   ]
  },
  {
   "cell_type": "code",
   "execution_count": null,
   "metadata": {},
   "outputs": [],
   "source": [
    "batch_size = 1\n",
    "len_ts = len(xs)\n",
    "nfeature = 1\n",
    "\n",
    "inp = keras.layers.Input(batch_shape= (batch_size, len_ts, nfeature),\n",
    "                       name=\"input\")  \n",
    "rnn,s,c = keras.layers.LSTM(hunits, \n",
    "                         return_sequences=True,\n",
    "                         stateful=False,\n",
    "                         return_state=True,\n",
    "                         name=\"RNN\")(inp)\n",
    "states = keras.models.Model(inputs=[inp],outputs=[s,c, rnn])\n",
    "\n",
    "for layer in states.layers:\n",
    "    for layer1 in model1.layers:\n",
    "        if layer.name == layer1.name:\n",
    "            layer.set_weights(layer1.get_weights())\n",
    "            \n",
    "h_t_keras, c_t_keras, rnn = states.predict(xs.reshape(1,len_ts,1))\n",
    "print(\"h3={}\".format(h_t_keras))\n",
    "print(\"c3={}\".format(c_t_keras))"
   ]
  },
  {
   "cell_type": "code",
   "execution_count": null,
   "metadata": {},
   "outputs": [],
   "source": [
    "model1.layers[2].get_weights()"
   ]
  },
  {
   "cell_type": "code",
   "execution_count": null,
   "metadata": {},
   "outputs": [],
   "source": [
    "states.layers[1]"
   ]
  },
  {
   "cell_type": "code",
   "execution_count": null,
   "metadata": {},
   "outputs": [],
   "source": []
  },
  {
   "cell_type": "code",
   "execution_count": null,
   "metadata": {},
   "outputs": [],
   "source": [
    "lstm_model.layers[0]"
   ]
  },
  {
   "cell_type": "code",
   "execution_count": null,
   "metadata": {},
   "outputs": [],
   "source": [
    "file_object =  open('parameters.h', 'w')"
   ]
  },
  {
   "cell_type": "code",
   "execution_count": null,
   "metadata": {},
   "outputs": [],
   "source": [
    "file_object.write(\"//\\n// Generated by spiderweak using Python.\\n//\\n\\n#ifndef CPP_PARAMETERS_H\\n#define CPP_PARAMETERS_H\\n\\n\")"
   ]
  },
  {
   "cell_type": "code",
   "execution_count": null,
   "metadata": {},
   "outputs": [],
   "source": [
    "file_object.write(\"#define HUNIT \" + str(hunits) + \"\\n\\n\")"
   ]
  },
  {
   "cell_type": "code",
   "execution_count": null,
   "metadata": {},
   "outputs": [],
   "source": [
    "file_object.write(\"#endif //CPP_PARAMETERS_H\\n\\nconst int hunit = HUNIT;\\n\\nconst float lstm_cell_input_weights[4 * HUNIT] = {\")"
   ]
  },
  {
   "cell_type": "code",
   "execution_count": null,
   "metadata": {},
   "outputs": [],
   "source": [
    "model1.layers[1].get_weights()[0].tofile(\"weights.txt\", sep=\", \", format=\"%s\")"
   ]
  },
  {
   "cell_type": "code",
   "execution_count": null,
   "metadata": {},
   "outputs": [],
   "source": [
    "weight_file = open(\"weights.txt\", 'r')\n",
    "for line in weight_file:\n",
    "    file_object.write(line);\n",
    "weight_file.close()"
   ]
  },
  {
   "cell_type": "code",
   "execution_count": null,
   "metadata": {},
   "outputs": [],
   "source": [
    "file_object.write(\"};\\n\\nconst float lstm_cell_hidden_weights[4 * HUNIT * HUNIT] = {\")"
   ]
  },
  {
   "cell_type": "code",
   "execution_count": null,
   "metadata": {},
   "outputs": [],
   "source": [
    "model1.layers[1].get_weights()[1].tofile(\"weights.txt\", sep=\", \", format=\"%s\")"
   ]
  },
  {
   "cell_type": "code",
   "execution_count": null,
   "metadata": {},
   "outputs": [],
   "source": [
    "weight_file = open(\"weights.txt\", 'r')\n",
    "for line in weight_file:\n",
    "    file_object.write(line);\n",
    "weight_file.close()"
   ]
  },
  {
   "cell_type": "code",
   "execution_count": null,
   "metadata": {},
   "outputs": [],
   "source": [
    "file_object.write(\"};\\n\\nconst float lstm_cell_bias[4 * HUNIT] = {\")"
   ]
  },
  {
   "cell_type": "code",
   "execution_count": null,
   "metadata": {},
   "outputs": [],
   "source": [
    "model1.layers[1].get_weights()[2].tofile(\"weights.txt\", sep=\", \", format=\"%s\")"
   ]
  },
  {
   "cell_type": "code",
   "execution_count": null,
   "metadata": {},
   "outputs": [],
   "source": [
    "weight_file = open(\"weights.txt\", 'r')\n",
    "for line in weight_file:\n",
    "    file_object.write(line);\n",
    "weight_file.close()"
   ]
  },
  {
   "cell_type": "code",
   "execution_count": null,
   "metadata": {},
   "outputs": [],
   "source": [
    "file_object.write(\"};\\n\\nstatic float lstm_cell_hidden_layer[HUNIT] = {\")"
   ]
  },
  {
   "cell_type": "code",
   "execution_count": null,
   "metadata": {},
   "outputs": [],
   "source": [
    "h_t_keras.tofile(\"weights.txt\", sep=\", \", format=\"%s\")"
   ]
  },
  {
   "cell_type": "code",
   "execution_count": null,
   "metadata": {},
   "outputs": [],
   "source": [
    "weight_file = open(\"weights.txt\", 'r')\n",
    "for line in weight_file:\n",
    "    file_object.write(line);\n",
    "weight_file.close()"
   ]
  },
  {
   "cell_type": "code",
   "execution_count": null,
   "metadata": {},
   "outputs": [],
   "source": [
    "file_object.write(\"};\\nstatic float lstm_cell_cell_states[HUNIT] = {\")"
   ]
  },
  {
   "cell_type": "code",
   "execution_count": null,
   "metadata": {},
   "outputs": [],
   "source": [
    "c_t_keras.tofile(\"weights.txt\", sep=\", \", format=\"%s\")"
   ]
  },
  {
   "cell_type": "code",
   "execution_count": null,
   "metadata": {},
   "outputs": [],
   "source": [
    "weight_file = open(\"weights.txt\", 'r')\n",
    "for line in weight_file:\n",
    "    file_object.write(line);\n",
    "weight_file.close()"
   ]
  },
  {
   "cell_type": "code",
   "execution_count": null,
   "metadata": {},
   "outputs": [],
   "source": [
    "file_object.write(\"};\\n\\nconst float dense_weights[HUNIT] = {\")"
   ]
  },
  {
   "cell_type": "code",
   "execution_count": null,
   "metadata": {},
   "outputs": [],
   "source": [
    "model1.layers[2].get_weights()[0].tofile(\"weights.txt\", sep=\", \", format=\"%s\")"
   ]
  },
  {
   "cell_type": "code",
   "execution_count": null,
   "metadata": {},
   "outputs": [],
   "source": [
    "weight_file = open(\"weights.txt\", 'r')\n",
    "for line in weight_file:\n",
    "    file_object.write(line);\n",
    "weight_file.close()"
   ]
  },
  {
   "cell_type": "code",
   "execution_count": null,
   "metadata": {},
   "outputs": [],
   "source": [
    "file_object.write(\"};\\nconst float dense_bias = \")"
   ]
  },
  {
   "cell_type": "code",
   "execution_count": null,
   "metadata": {},
   "outputs": [],
   "source": [
    "model1.layers[2].get_weights()[1].tofile(\"weights.txt\", sep=\", \", format=\"%s\")"
   ]
  },
  {
   "cell_type": "code",
   "execution_count": null,
   "metadata": {},
   "outputs": [],
   "source": [
    "weight_file = open(\"weights.txt\", 'r')\n",
    "for line in weight_file:\n",
    "    file_object.write(line);\n",
    "weight_file.close()"
   ]
  },
  {
   "cell_type": "code",
   "execution_count": null,
   "metadata": {},
   "outputs": [],
   "source": [
    "file_object.write(\";\\n\")"
   ]
  },
  {
   "cell_type": "code",
   "execution_count": null,
   "metadata": {},
   "outputs": [],
   "source": [
    "file_object.close()"
   ]
  },
  {
   "cell_type": "code",
   "execution_count": null,
   "metadata": {},
   "outputs": [],
   "source": []
  },
  {
   "cell_type": "code",
   "execution_count": null,
   "metadata": {},
   "outputs": [],
   "source": []
  },
  {
   "cell_type": "code",
   "execution_count": null,
   "metadata": {},
   "outputs": [],
   "source": [
    "\n",
    "\n",
    "fig = plt.figure(figsize=(9,4))\n",
    "ax = fig.add_subplot(1,2,1)\n",
    "ax.plot(h_tm1.flatten(),h_t_keras.flatten(),\"p\")\n",
    "ax.set_xlabel(\"h by hand\")\n",
    "ax.set_ylabel(\"h by Keras\")\n",
    "\n",
    "ax = fig.add_subplot(1,2,2)\n",
    "ax.plot(c_tm1.flatten(),c_t_keras.flatten(),\"p\")\n",
    "ax.set_xlabel(\"c by hand\")\n",
    "ax.set_ylabel(\"c by Keras\")\n",
    "plt.show()"
   ]
  },
  {
   "cell_type": "code",
   "execution_count": null,
   "metadata": {},
   "outputs": [],
   "source": []
  },
  {
   "cell_type": "code",
   "execution_count": null,
   "metadata": {},
   "outputs": [],
   "source": []
  },
  {
   "cell_type": "code",
   "execution_count": null,
   "metadata": {},
   "outputs": [],
   "source": []
  },
  {
   "cell_type": "code",
   "execution_count": null,
   "metadata": {},
   "outputs": [],
   "source": []
  },
  {
   "cell_type": "code",
   "execution_count": null,
   "metadata": {},
   "outputs": [],
   "source": []
  }
 ],
 "metadata": {
  "kernelspec": {
   "display_name": "Python 3",
   "language": "python",
   "name": "python3"
  },
  "language_info": {
   "codemirror_mode": {
    "name": "ipython",
    "version": 3
   },
   "file_extension": ".py",
   "mimetype": "text/x-python",
   "name": "python",
   "nbconvert_exporter": "python",
   "pygments_lexer": "ipython3",
   "version": "3.7.3"
  }
 },
 "nbformat": 4,
 "nbformat_minor": 4
}
